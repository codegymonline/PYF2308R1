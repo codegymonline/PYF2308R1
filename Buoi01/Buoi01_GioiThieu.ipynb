{
 "cells": [
  {
   "cell_type": "code",
   "execution_count": 1,
   "id": "e88ec36d-c8c5-42aa-ba8d-9fd741c375da",
   "metadata": {},
   "outputs": [
    {
     "name": "stdout",
     "output_type": "stream",
     "text": [
      "Chào mừng các bạn\n"
     ]
    }
   ],
   "source": [
    "print('Chào mừng các bạn')\n"
   ]
  },
  {
   "cell_type": "code",
   "execution_count": 2,
   "id": "cfbcd8c2-69e1-4717-96d2-b647eeb95e05",
   "metadata": {},
   "outputs": [
    {
     "name": "stdout",
     "output_type": "stream",
     "text": [
      "2023\n"
     ]
    },
    {
     "ename": "TypeError",
     "evalue": "can only concatenate str (not \"int\") to str",
     "output_type": "error",
     "traceback": [
      "\u001b[1;31m---------------------------------------------------------------------------\u001b[0m",
      "\u001b[1;31mTypeError\u001b[0m                                 Traceback (most recent call last)",
      "Cell \u001b[1;32mIn[2], line 2\u001b[0m\n\u001b[0;32m      1\u001b[0m \u001b[38;5;28mprint\u001b[39m(\u001b[38;5;241m2023\u001b[39m)\n\u001b[1;32m----> 2\u001b[0m \u001b[38;5;28mprint\u001b[39m(\u001b[38;5;124;43m'\u001b[39;49m\u001b[38;5;124;43mNăm\u001b[39;49m\u001b[38;5;124;43m'\u001b[39;49m\u001b[43m \u001b[49m\u001b[38;5;241;43m+\u001b[39;49m\u001b[43m \u001b[49m\u001b[38;5;241;43m2023\u001b[39;49m)\n",
      "\u001b[1;31mTypeError\u001b[0m: can only concatenate str (not \"int\") to str"
     ]
    }
   ],
   "source": [
    "print(2023)\n",
    "print('Năm' + 2023)"
   ]
  },
  {
   "cell_type": "code",
   "execution_count": 7,
   "id": "982773a8-af33-4069-8c39-73ff63f23a8a",
   "metadata": {},
   "outputs": [],
   "source": [
    "#Ví dụ vẽ hình chữ nhật ngang 200, rộng 150\n",
    "\n",
    "#Chèn tất cả các hàm, module, lớp trong thư viện turtle\n",
    "from turtle import *\n",
    "\n",
    "t = Turtle()\n",
    "\n",
    "t.forward(200) # đi thẳng\n",
    "t.right(90) # rẻ phải 90 do\n",
    "t.forward(150)\n",
    "t.right(90)\n",
    "t.forward(200)\n",
    "t.right(90)\n",
    "t.forward(150)\n",
    "\n",
    "#Kết thúc vẽ\n",
    "done()"
   ]
  },
  {
   "cell_type": "code",
   "execution_count": null,
   "id": "0aa80ed0-b801-42a5-aa74-5b8893ff6c46",
   "metadata": {},
   "outputs": [],
   "source": []
  }
 ],
 "metadata": {
  "kernelspec": {
   "display_name": "Python 3 (ipykernel)",
   "language": "python",
   "name": "python3"
  },
  "language_info": {
   "codemirror_mode": {
    "name": "ipython",
    "version": 3
   },
   "file_extension": ".py",
   "mimetype": "text/x-python",
   "name": "python",
   "nbconvert_exporter": "python",
   "pygments_lexer": "ipython3",
   "version": "3.10.7"
  }
 },
 "nbformat": 4,
 "nbformat_minor": 5
}
