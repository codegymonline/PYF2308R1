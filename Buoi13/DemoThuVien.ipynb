{
 "cells": [
  {
   "cell_type": "code",
   "execution_count": 2,
   "id": "056f9889-aaa0-49f3-8e57-684d73d983ac",
   "metadata": {},
   "outputs": [
    {
     "name": "stdout",
     "output_type": "stream",
     "text": [
      "14\n",
      "1953125\n"
     ]
    }
   ],
   "source": [
    "import ThuVien\n",
    "\n",
    "print(ThuVien.cong(5, 9))\n",
    "print(ThuVien.mu(5, 9))"
   ]
  },
  {
   "cell_type": "code",
   "execution_count": 3,
   "id": "53bf7efa-d4f7-4546-a377-d5326dc55c21",
   "metadata": {},
   "outputs": [
    {
     "name": "stdout",
     "output_type": "stream",
     "text": [
      "40353607\n"
     ]
    }
   ],
   "source": [
    "from ThuVien import mu\n",
    "print(mu(7, 9))"
   ]
  },
  {
   "cell_type": "code",
   "execution_count": null,
   "id": "cf5dc7fd-f532-4aff-8d13-b1247fcaecb1",
   "metadata": {},
   "outputs": [],
   "source": []
  }
 ],
 "metadata": {
  "kernelspec": {
   "display_name": "Python 3 (ipykernel)",
   "language": "python",
   "name": "python3"
  },
  "language_info": {
   "codemirror_mode": {
    "name": "ipython",
    "version": 3
   },
   "file_extension": ".py",
   "mimetype": "text/x-python",
   "name": "python",
   "nbconvert_exporter": "python",
   "pygments_lexer": "ipython3",
   "version": "3.10.7"
  }
 },
 "nbformat": 4,
 "nbformat_minor": 5
}
