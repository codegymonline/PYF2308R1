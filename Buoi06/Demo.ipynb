{
 "cells": [
  {
   "cell_type": "code",
   "execution_count": 1,
   "id": "9475aa8e-c59f-49f3-bcab-0450fbbc689c",
   "metadata": {},
   "outputs": [
    {
     "name": "stdout",
     "output_type": "stream",
     "text": [
      "Python cơ bản 29 buổi\n",
      "END\n"
     ]
    }
   ],
   "source": [
    "#Demo xuất dữ liệu\n",
    "mon_hoc = 'Python cơ bản'\n",
    "print(mon_hoc, 29, 'buổi')\n",
    "print(\"END\")"
   ]
  },
  {
   "cell_type": "code",
   "execution_count": 2,
   "id": "c6c36c43-f447-4542-9fd4-58921d21ed63",
   "metadata": {},
   "outputs": [
    {
     "name": "stdout",
     "output_type": "stream",
     "text": [
      "Python cơ bản+29+buổi\n",
      "END\n"
     ]
    }
   ],
   "source": [
    "#Demo 2\n",
    "mon_hoc = 'Python cơ bản'\n",
    "print(mon_hoc, 29, 'buổi', sep='+')\n",
    "print(\"END\")"
   ]
  },
  {
   "cell_type": "code",
   "execution_count": 5,
   "id": "82d1f052-4532-44f0-b927-ec158e0c4f8a",
   "metadata": {},
   "outputs": [
    {
     "name": "stdout",
     "output_type": "stream",
     "text": [
      "Python cơ bản+29+buổi:END\n"
     ]
    }
   ],
   "source": [
    "#Demo 3\n",
    "mon_hoc = 'Python cơ bản'\n",
    "print(mon_hoc, 29, 'buổi', sep='+', end=':')\n",
    "print(\"END\")"
   ]
  },
  {
   "cell_type": "code",
   "execution_count": 13,
   "id": "5c3c769e-1cb6-4b16-8149-b4e22f2aabc9",
   "metadata": {},
   "outputs": [
    {
     "name": "stdout",
     "output_type": "stream",
     "text": [
      "Chào ngày mới\n",
      "Chúc bạn cuối tuần vui vẻ\n",
      "Tôi {chuoi_1} bạn nhé {2+5}\n",
      "Tôi Chào ngày mới bạn nhé 7\n",
      "Tôi Chào ngày mới bạn nhé\n"
     ]
    }
   ],
   "source": [
    "#Phân biệt chuỗi nháy đơn vs chuỗi nháy kém\n",
    "chuoi_1 = \"Chào ngày mới\"\n",
    "chuoi_2 = 'Chúc bạn cuối tuần vui vẻ'\n",
    "print(chuoi_1, chuoi_2, sep=\"\\n\")\n",
    "\n",
    "#Demo format string\n",
    "print(\"Tôi {chuoi_1} bạn nhé {2+5}\")\n",
    "print(f\"Tôi {chuoi_1} bạn nhé {2+5}\")\n",
    "print(f'Tôi {chuoi_1} bạn nhé')"
   ]
  },
  {
   "cell_type": "code",
   "execution_count": 28,
   "id": "8a332259-0d7b-4a1c-8017-a0398685db18",
   "metadata": {},
   "outputs": [
    {
     "name": "stdout",
     "output_type": "stream",
     "text": [
      "Chào thứ 6 True\n",
      "Chào thứ 6 True\n"
     ]
    }
   ],
   "source": [
    "thu = 6\n",
    "ket_qua = True\n",
    "# print(\"Chào thứ \" + thu + \" \" + ket_qua) # Lỗi ==> ép về kiểu chuỗi dùng str()\n",
    "print(\"Chào thứ \" + str(thu) + \" \" + str(ket_qua))\n",
    "print(f\"Chào thứ {thu} {ket_qua}\")"
   ]
  },
  {
   "cell_type": "code",
   "execution_count": 22,
   "id": "8057161f-bded-4ebb-95b3-a018fd5493c3",
   "metadata": {},
   "outputs": [
    {
     "name": "stdout",
     "output_type": "stream",
     "text": [
      "My name is John, I'm 36\n",
      "My name is John, I'm 36\n",
      "My name is John, I'm 36\n"
     ]
    }
   ],
   "source": [
    "#Nên dùng format string dạng f\"{}\" hơn là dùng hàm format()\n",
    "txt1 = \"My name is {fname}, I'm {age}\".format(fname = \"John\", age = 36)\n",
    "print(txt1)\n",
    "#===> làm f\"My name is {fname}, I'm {age}\"\n",
    "\n",
    "txt2 = \"My name is {0}, I'm {1}\".format(\"John\",36)\n",
    "txt3 = \"My name is {}, I'm {}\".format(\"John\",36)\n",
    "print(txt2)\n",
    "print(txt3)"
   ]
  },
  {
   "cell_type": "code",
   "execution_count": 26,
   "id": "11d49af8-eb44-4192-9cca-25d1001afc67",
   "metadata": {},
   "outputs": [
    {
     "name": "stdout",
     "output_type": "stream",
     "text": [
      "Sammy paid 12.3456789$ to eat 75.8 percent of a pizza!\n",
      "Sammy paid 12.35$ to eat 75.8 percent of a pizza!\n"
     ]
    }
   ],
   "source": [
    "# Format với số thập phân\n",
    "print(\"Sammy paid {1}$ to eat {0:.1f} percent of a pizza!\".format(75.765367, 12.3456789))\n",
    "print(\"Sammy paid {1:.2f}$ to eat {0:.1f} percent of a pizza!\".format(75.765367, 12.3456789))\n"
   ]
  },
  {
   "cell_type": "code",
   "execution_count": 32,
   "id": "38f7d80a-69ac-40c7-b3df-868c8926a52e",
   "metadata": {},
   "outputs": [
    {
     "name": "stdin",
     "output_type": "stream",
     "text": [
      "Nhập x:  333\n",
      "Nhập y:  123\n"
     ]
    },
    {
     "name": "stdout",
     "output_type": "stream",
     "text": [
      "X + Y=  456.0\n",
      "X - Y=  210.0\n",
      "X * Y=  40959.0\n",
      "X / Y=  2.707317073170732\n",
      "X // Y=  2.0\n",
      "X % Y=  87.0\n"
     ]
    }
   ],
   "source": [
    "#Nhập vào 2 số, Thực hiện phép toán giữa 2 số\n",
    "x = float(input(\"Nhập x: \"))\n",
    "y = float(input(\"Nhập y: \"))\n",
    "print(\"X + Y= \", x + y)\n",
    "print(\"X - Y= \", x - y)\n",
    "print(\"X * Y= \", x * y)\n",
    "print(\"X / Y= \", x / y)\n",
    "print(\"X // Y= \", x // y)\n",
    "print(\"X % Y= \", x % y)\n"
   ]
  },
  {
   "cell_type": "code",
   "execution_count": null,
   "id": "02d37f2f-6418-4f2f-8b49-32cfc5d9bf45",
   "metadata": {},
   "outputs": [],
   "source": []
  }
 ],
 "metadata": {
  "kernelspec": {
   "display_name": "Python 3 (ipykernel)",
   "language": "python",
   "name": "python3"
  },
  "language_info": {
   "codemirror_mode": {
    "name": "ipython",
    "version": 3
   },
   "file_extension": ".py",
   "mimetype": "text/x-python",
   "name": "python",
   "nbconvert_exporter": "python",
   "pygments_lexer": "ipython3",
   "version": "3.10.7"
  }
 },
 "nbformat": 4,
 "nbformat_minor": 5
}
