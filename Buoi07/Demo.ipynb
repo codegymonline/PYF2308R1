{
 "cells": [
  {
   "cell_type": "code",
   "execution_count": 6,
   "id": "7a4e8e05-c491-404c-b00b-9e9a3b49569f",
   "metadata": {},
   "outputs": [
    {
     "name": "stdout",
     "output_type": "stream",
     "text": [
      "True\n"
     ]
    }
   ],
   "source": [
    "# 5 == 5 \n",
    "a = 7 # Gán\n",
    "a == 9 # 2 dấu = viết sát nhau thì là so sánh bằng\n",
    "print(a == 7)"
   ]
  },
  {
   "cell_type": "code",
   "execution_count": 16,
   "id": "12b516d7-e125-4352-9e5f-ce2d665a1eb9",
   "metadata": {},
   "outputs": [
    {
     "name": "stdout",
     "output_type": "stream",
     "text": [
      "992 is even.\n",
      "992 is even\n",
      "992 is even\n",
      "992 is even\n"
     ]
    }
   ],
   "source": [
    "number = 992\n",
    "if (number % 2 == 0):\n",
    "    # print (str(number) + \" is even.\")\n",
    "    print(f\"{number} is even.\")\n",
    "    # print(number, \" is even\", sep='')\n",
    "    # print(\"{} is even\".format(number))\n",
    "    # print(\"{0} is even\".format(number))\n",
    "else:\n",
    "    print (str(number) + \" is odd.\")\n"
   ]
  },
  {
   "cell_type": "code",
   "execution_count": 20,
   "id": "c61f4374-2709-4978-b10a-f6beec4a50ab",
   "metadata": {},
   "outputs": [
    {
     "name": "stdin",
     "output_type": "stream",
     "text": [
      "Nhập điểm của bạn:  aaa\n"
     ]
    },
    {
     "name": "stdout",
     "output_type": "stream",
     "text": [
      "Lỗi: could not convert string to float: 'aaa'\n"
     ]
    }
   ],
   "source": [
    "'''\n",
    "Nhập vào điểm của bạn (0 <= diem <= 10)\n",
    "Yêu cầu: Xuất ra điểm và xếp loại.\n",
    "Xếp loại:\n",
    "- A: diem >= 8.5\n",
    "- B+: 7.8 <= diem < 8.5\n",
    "- B: 7 <= diem < 7.8\n",
    "- C: 5 <= diem < 7\n",
    "- D: diem < 5\n",
    "HD: Xét loại là dùng if...elif...else\n",
    "'''\n",
    "try:\n",
    "    diem = float(input(\"Nhập điểm của bạn: \"))\n",
    "    \n",
    "    if (diem > 10 or diem < 0):\n",
    "        print(\"Điểm không hợp lệ!!\")\n",
    "    elif (diem >= 8.5):\n",
    "        print(\"Xếp loại A\")\n",
    "    elif (7.8 <= diem):\n",
    "        print(\"Xếp loại B+\")\n",
    "    elif (7 <= diem):\n",
    "        print(\"Xếp loại B\")\n",
    "    elif (5 <= diem):\n",
    "        print(\"Xếp loại C\")\n",
    "    else:\n",
    "        print(\"Xếp loại D\")\n",
    "except Exception as ex:\n",
    "    print(\"Lỗi:\", ex)\n"
   ]
  },
  {
   "cell_type": "code",
   "execution_count": 22,
   "id": "d0067f51-deb9-4fff-9547-a79448a97eae",
   "metadata": {},
   "outputs": [
    {
     "name": "stdout",
     "output_type": "stream",
     "text": [
      "Số chẵn\n"
     ]
    }
   ],
   "source": [
    "num = 992\n",
    "chuoi = \"Số chẵn\" if num % 2 == 0 else \"Số lẻ\"\n",
    "print(chuoi)"
   ]
  },
  {
   "cell_type": "code",
   "execution_count": 25,
   "id": "f14e72e2-050b-4b0d-89ed-c209bf08c79b",
   "metadata": {},
   "outputs": [
    {
     "name": "stdin",
     "output_type": "stream",
     "text": [
      "Nhập năm  cần kiểm tra:  2400\n"
     ]
    },
    {
     "name": "stdout",
     "output_type": "stream",
     "text": [
      "2400 là năm nhuận\n"
     ]
    }
   ],
   "source": [
    "#Nhập vào năm, in ra năm đó có phải năm nhuận ko?\n",
    "# Năm nhuận là năm chia hết cho 4, nhưng nếu năm chia hết cho 100 thì phải chia hết cho 400 mới là năm nhuận\n",
    "year = int(input(\"Nhập năm  cần kiểm tra: \"))\n",
    "\n",
    "la_nam_nhuan = False\n",
    "if year % 400 == 0:\n",
    "    la_nam_nhuan = True\n",
    "elif year % 4 == 0 and year % 100 != 0:\n",
    "    la_nam_nhuan = True\n",
    "\n",
    "print(f\"{year} {'là' if la_nam_nhuan else 'không là'} năm nhuận\")"
   ]
  },
  {
   "cell_type": "code",
   "execution_count": null,
   "id": "973d6a3c-9aa0-4ffd-8915-062a7a362235",
   "metadata": {},
   "outputs": [],
   "source": []
  }
 ],
 "metadata": {
  "kernelspec": {
   "display_name": "Python 3 (ipykernel)",
   "language": "python",
   "name": "python3"
  },
  "language_info": {
   "codemirror_mode": {
    "name": "ipython",
    "version": 3
   },
   "file_extension": ".py",
   "mimetype": "text/x-python",
   "name": "python",
   "nbconvert_exporter": "python",
   "pygments_lexer": "ipython3",
   "version": "3.10.7"
  }
 },
 "nbformat": 4,
 "nbformat_minor": 5
}
