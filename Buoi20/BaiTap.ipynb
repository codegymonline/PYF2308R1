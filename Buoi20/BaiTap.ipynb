{
 "cells": [
  {
   "cell_type": "markdown",
   "id": "350f489b-5dae-48b8-b120-3464a89c914d",
   "metadata": {},
   "source": [
    "Nhân viên có lương.\n",
    "Lương (Salary) là một lớp gồm thuộc tính lương cơ bản (pay) và thưởng (bonus)\n",
    "Nhân viên (Employee) là một lớp có thuộc tính họ tên (full_name) và lương (salary)\n",
    "Tạo mới nhân viên có lương và xuất ra lương của nhân viên\n",
    "/Composition - bao gộp/ (1 nhân viên có 1 lương)"
   ]
  },
  {
   "cell_type": "code",
   "execution_count": 1,
   "id": "cb4ba7b7-d176-4196-a6b3-d92f1ae534cd",
   "metadata": {},
   "outputs": [
    {
     "name": "stdout",
     "output_type": "stream",
     "text": [
      "<__main__.Employee object at 0x0000027EBA0121A0>\n",
      "Lương cơ bản: 1000\n"
     ]
    }
   ],
   "source": [
    "class Salary:\n",
    "    def __init__(self, pay, bonus):\n",
    "        self.pay = pay\n",
    "        self.bonus = bonus\n",
    "\n",
    "class Employee:\n",
    "    full_name = None\n",
    "    salary = None\n",
    "\n",
    "    def __init__(self, fullname, salary):\n",
    "        self.full_name = fullname\n",
    "        self.salary = salary\n",
    "\n",
    "# Demo\n",
    "emp1 = Employee(\"David Beckham\", Salary(1000, 333))\n",
    "print(emp1)\n",
    "print('Lương cơ bản:', emp1.salary.pay)"
   ]
  },
  {
   "cell_type": "markdown",
   "id": "060f7606-6749-4a22-a576-2cbf0fd9a404",
   "metadata": {},
   "source": [
    "Xây dựng lớp Student với các thuộc tính như mã sinh viên, họ tên, ngày tháng năm sinh, quê quán, chuyên ngành, lớp…Chức năng chính của lớp này là lưu giữ thông tin của 1 sinh viên\r\n",
    "\r\n",
    "Xây dựng lớp danh mục sinh viên (Student_List) với thuộc tính là một List các đối tượng của lớp Student vừa xây dựng ở trên. Lớp này có các hàm thành viên tương ứng với các chức năng như đề bài yêu cầu. Mỗi hàm chức năng đều thao tác trên thuộc tính List sinh viên của lớp nà\n",
    "Xây dựng ứng dụng quản lý sinh viên với các chức năng cơ bản sau:\r",
    "- \n",
    "Xem danh mục sinh viên- \r\n",
    "Thêm sinh viên mới vào danh mụ- c\r\n",
    "Cập nhật thông tin của sinh viên trong danh m- ục\r\n",
    "Xóa thông tin sinh viên khỏi danh - mục\r\n",
    "Tìm kiếm thông tin sinh viên trong danh mục theo từ - khóa\r\n",
    "Sắp xếp thông tin sinh viên trong danớng dẫn. "
   ]
  },
  {
   "cell_type": "code",
   "execution_count": 27,
   "id": "e272f96c-9978-412c-af29-340b7c2511ca",
   "metadata": {},
   "outputs": [
    {
     "name": "stdout",
     "output_type": "stream",
     "text": [
      "  102  Tý                    2000-12-12  Hồ Chí Minh      CNPM        CNPM.K23\n",
      "  101  Tèo                   2000-10-20  Hà Nội           CNPM        CNPM.K23\n",
      "Sau khi xóa:\n",
      "  102  Tý                    2000-12-12  Hồ Chí Minh      CNPM        CNPM.K23\n"
     ]
    }
   ],
   "source": [
    "class Student:\n",
    "    def __init__(self, masv, ho_ten, ngay_sinh, que_quan, chuyen_nganh, lop):\n",
    "        self.masv = masv\n",
    "        self.ho_ten = ho_ten\n",
    "        self.ngay_sinh = ngay_sinh\n",
    "        self.que_quan = que_quan\n",
    "        self.chuyen_nganh = chuyen_nganh\n",
    "        self.lop = lop\n",
    "\n",
    "    def __str__(self):\n",
    "        return f\"{self.masv:5}  {self.ho_ten:20}  {self.ngay_sinh}  {self.que_quan:15}  {self.chuyen_nganh:10}  {self.lop}\"\n",
    "\n",
    "\n",
    "class Student_List:\n",
    "    def __init__(self, student_list = []):\n",
    "        self.student_list = student_list\n",
    "\n",
    "    def display(self):\n",
    "        # Xem danh mục sinh viên\n",
    "        for student in self.student_list:\n",
    "            print(student)\n",
    "\n",
    "    def add_student(self, student):\n",
    "        # Thêm sinh viên vào danh mục\n",
    "        self.student_list.append(student)\n",
    "\n",
    "    def search(self, keyword):\n",
    "        results = list(filter(lambda student: student.masv == keyword, self.student_list))\n",
    "        # print(results[0] if len(results) > 0 else 'Not found')\n",
    "        return results[0] if len(results) > 0 else None\n",
    "\n",
    "    def update_student(self, student):\n",
    "        # Cập nhật sinh viên vào danh mục\n",
    "        pass\n",
    "\n",
    "    def delete_student(self, keyword):\n",
    "        found_student = self.search(keyword)\n",
    "        if found_student:\n",
    "            self.student_list.remove(found_student)\n",
    "            print(\"Sau khi xóa:\")\n",
    "            self.display()\n",
    "        else:\n",
    "            print(\"Tìm không thấy SV có mã để xóa\")\n",
    "\n",
    "    def sort(self):\n",
    "        pass\n",
    "\n",
    "\n",
    "# Demo\n",
    "sv1 = Student(101, 'Tèo', '2000-10-20', 'Hà Nội', 'CNPM', 'CNPM.K23')\n",
    "sv2 = Student(102, 'Tý', '2000-12-12', 'Hồ Chí Minh', 'CNPM', 'CNPM.K23')\n",
    "# print(sv1) #???\n",
    "\n",
    "sl = Student_List([sv2])\n",
    "sl.add_student(sv1)\n",
    "sl.display()\n",
    "\n",
    "sl.search(104)\n",
    "\n",
    "sl.delete_student(101)\n"
   ]
  },
  {
   "cell_type": "code",
   "execution_count": null,
   "id": "8a5ab129-ff00-4cca-937c-864bf4b42aee",
   "metadata": {},
   "outputs": [],
   "source": []
  }
 ],
 "metadata": {
  "kernelspec": {
   "display_name": "Python 3 (ipykernel)",
   "language": "python",
   "name": "python3"
  },
  "language_info": {
   "codemirror_mode": {
    "name": "ipython",
    "version": 3
   },
   "file_extension": ".py",
   "mimetype": "text/x-python",
   "name": "python",
   "nbconvert_exporter": "python",
   "pygments_lexer": "ipython3",
   "version": "3.10.7"
  }
 },
 "nbformat": 4,
 "nbformat_minor": 5
}
