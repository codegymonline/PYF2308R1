{
 "cells": [
  {
   "cell_type": "code",
   "execution_count": 9,
   "id": "8f31d2f5-754b-4838-9eeb-91e1a7299b7b",
   "metadata": {},
   "outputs": [
    {
     "name": "stdout",
     "output_type": "stream",
     "text": [
      "8 x  1 = 8\n",
      "8 x  2 = 16\n",
      "8 x  3 = 24\n",
      "8 x  4 = 32\n",
      "8 x  5 = 40\n",
      "8 x  6 = 48\n",
      "8 x  7 = 56\n",
      "8 x  8 = 64\n",
      "8 x  9 = 72\n",
      "8 x 10 = 80\n",
      "None\n",
      "9 x  1 = 9\n",
      "9 x  2 = 18\n",
      "9 x  3 = 27\n",
      "9 x  4 = 36\n",
      "9 x  5 = 45\n",
      "9 x  6 = 54\n",
      "9 x  7 = 63\n",
      "9 x  8 = 72\n",
      "9 x  9 = 81\n",
      "9 x 10 = 90\n"
     ]
    }
   ],
   "source": [
    "'''Viết hàm in bảng cửu chương'''\n",
    "def inBangCuuChuong(N: int):\n",
    "    for i in range(1, 11):\n",
    "        print(f\"{N} x {i:2} = {N*i}\")\n",
    "    \n",
    "    return # Không trả về giá trị nào\n",
    "\n",
    "#Gọi hàm\n",
    "# inBangCuuChuong(True)\n",
    "inBangCuuChuong(8)\n",
    "inBangCuuChuong(9)\n",
    "#Hàm không trả về giá trị thì lời gọi hàm phải nằm trên 01 lệnh riêng biệt"
   ]
  },
  {
   "cell_type": "code",
   "execution_count": 11,
   "id": "574a9fa1-35ae-4d84-ba63-1c902d0f2bac",
   "metadata": {},
   "outputs": [
    {
     "name": "stdout",
     "output_type": "stream",
     "text": [
      "12.0\n"
     ]
    }
   ],
   "source": [
    "'''g(x,y) = can_bac_hai(x) + can_bac_hai(y)'''\n",
    "import math\n",
    "def g(x, y):\n",
    "    return math.sqrt(x) + math.sqrt(y)\n",
    "\n",
    "gia_tri = g(25, 49)\n",
    "print(gia_tri)\n",
    " "
   ]
  },
  {
   "cell_type": "code",
   "execution_count": 12,
   "id": "46a03722-e1b6-45e6-bcac-d08419c0dd09",
   "metadata": {},
   "outputs": [
    {
     "name": "stdout",
     "output_type": "stream",
     "text": [
      "Begin x=7, y=9.1\n",
      "Inside x=45.5, y=9.1\n",
      "End x=7, y=9.1\n"
     ]
    }
   ],
   "source": [
    "# Demo phạm vi của biến\n",
    "def tinhToan(x, y):\n",
    "    x = y * 5\n",
    "    print(f\"Inside x={x}, y={y}\")\n",
    "\n",
    "#Gọi hàm\n",
    "x = 7\n",
    "y = 9.1\n",
    "print(f\"Begin x={x}, y={y}\")\n",
    "tinhToan(x,y)\n",
    "print(f\"End x={x}, y={y}\")"
   ]
  },
  {
   "cell_type": "code",
   "execution_count": 18,
   "id": "63167e49-03fd-4124-b76c-4180a72b7517",
   "metadata": {},
   "outputs": [
    {
     "name": "stdout",
     "output_type": "stream",
     "text": [
      "Begin x=7, y=9.1\n",
      "Inside x=45.5, y=9.1\n",
      "End x=45.5, y=9.1\n"
     ]
    }
   ],
   "source": [
    "# Demo phạm vi của biến toàn cục (global)\n",
    "\n",
    "\n",
    "def tinhToan():\n",
    "    global x\n",
    "    global y\n",
    "    x = y * 5\n",
    "    print(f\"Inside x={x}, y={y}\")\n",
    "\n",
    "#Gọi hàm\n",
    "x = 7\n",
    "y = 9.1\n",
    "print(f\"Begin x={x}, y={y}\")\n",
    "tinhToan()\n",
    "print(f\"End x={x}, y={y}\")"
   ]
  },
  {
   "cell_type": "code",
   "execution_count": 22,
   "id": "709b0970-17ee-4146-bee3-da6d640d9207",
   "metadata": {},
   "outputs": [
    {
     "name": "stdout",
     "output_type": "stream",
     "text": [
      "Before [7, 8]\n",
      "Inside [7, 8, 7]\n",
      "After [7, 8]\n"
     ]
    }
   ],
   "source": [
    "'''\n",
    "Mutable Object: biến dạng list, dict, class\n",
    "Immutable Object: int, float, bool, tuple, string\n",
    "'''\n",
    "\n",
    "def themDanhSach(arr):\n",
    "    arr = arr + [7]\n",
    "    print(f'Inside {arr}')\n",
    "\n",
    "# # Demo 1: immutable\n",
    "# arr = 7\n",
    "# print(f'Before {arr}')\n",
    "# themDanhSach(arr)\n",
    "# print(f'After {arr}')\n",
    "\n",
    "# Demo 2: mutable\n",
    "arr = [7, 8]\n",
    "print(f'Before {arr}')\n",
    "themDanhSach(arr)\n",
    "print(f'After {arr}')"
   ]
  },
  {
   "cell_type": "code",
   "execution_count": 8,
   "id": "f6b1e3eb-6c66-47d1-8e5d-bb7af8777260",
   "metadata": {},
   "outputs": [],
   "source": [
    "\"\"\"Bài tập vẽ ngôi nhà\"\"\"\n",
    "import turtle\n",
    "# Hàm vẽ 1 ô (gồm 2 HCN con)\n",
    "t = turtle.Turtle()\n",
    "t.hideturtle()\n",
    "\n",
    "def veHinhChuNhat(w, h, color):\n",
    "    t.pencolor(color)\n",
    "    t.forward(w)\n",
    "    t.right(90)\n",
    "    t.forward(h)\n",
    "    t.right(90)\n",
    "    t.forward(w)\n",
    "    t.right(90)\n",
    "    t.forward(h)\n",
    "    t.right(90)\n",
    "    \n",
    "def veMotO(w1, h1, w2, h2, left, right):\n",
    "    t.penup() \n",
    "    t.goto(left, right)\n",
    "    t.pendown()\n",
    "    veHinhChuNhat(w1, h1, 'red')    \n",
    "\n",
    "    t.penup() \n",
    "    t.goto((w1 - w2) // 2, - (h1 - h2) // 2)\n",
    "    t.pendown()\n",
    "\n",
    "    veHinhChuNhat(w2, h2, 'blue')\n",
    "    \n",
    "big_w = 150\n",
    "big_h = 250\n",
    "veMotO(big_w, big_h, 80, 100, 0, 0)\n",
    "veMotO(big_w, big_h, 80, 100, 0, big_w)\n",
    "\n",
    "turtle.done()"
   ]
  },
  {
   "cell_type": "code",
   "execution_count": null,
   "id": "f812f7c1-23ac-4acd-bfed-b75c3017a91e",
   "metadata": {},
   "outputs": [],
   "source": []
  },
  {
   "cell_type": "code",
   "execution_count": null,
   "id": "9607b6bd-080c-40be-967d-8f3007accff7",
   "metadata": {},
   "outputs": [],
   "source": []
  },
  {
   "cell_type": "code",
   "execution_count": null,
   "id": "9d7e6d70-c064-4754-82bb-b31ca35a5961",
   "metadata": {},
   "outputs": [],
   "source": []
  }
 ],
 "metadata": {
  "kernelspec": {
   "display_name": "Python 3 (ipykernel)",
   "language": "python",
   "name": "python3"
  },
  "language_info": {
   "codemirror_mode": {
    "name": "ipython",
    "version": 3
   },
   "file_extension": ".py",
   "mimetype": "text/x-python",
   "name": "python",
   "nbconvert_exporter": "python",
   "pygments_lexer": "ipython3",
   "version": "3.10.7"
  }
 },
 "nbformat": 4,
 "nbformat_minor": 5
}
