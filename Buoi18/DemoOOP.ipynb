{
 "cells": [
  {
   "cell_type": "markdown",
   "id": "63db8c5c-41a3-4b84-968f-6c1112191402",
   "metadata": {},
   "source": [
    "Định nghĩa lớp/kiểu dữ liệu xe hơi (Car) gồm các thuộc tính sau:\n",
    "- Hãng xe\n",
    "- Model xe\n",
    "- Màu xe\n",
    "- Năm sản xuất\n",
    "và các hành vi (phương thức): Khởi động, Chạy, dừng,...\n",
    "Xuất thông tin xe gồm hãng, model, màu, năm SX."
   ]
  },
  {
   "cell_type": "code",
   "execution_count": 16,
   "id": "49f2cbc5-39d2-47a4-9c38-3056c9c789fc",
   "metadata": {},
   "outputs": [
    {
     "name": "stdout",
     "output_type": "stream",
     "text": [
      "Mazda CX5 Red 2020\n",
      "Mazda CX5 Red 2020\n",
      "Xe bắt đầu chạy\n",
      "Santafe\n",
      "[<__main__.Car object at 0x000002712ECF44C0>, <__main__.Car object at 0x000002712D4E84F0>]\n"
     ]
    }
   ],
   "source": [
    "class Car:\n",
    "    # khai báo thuộc tính (đặc điểm đặc trưng cho đối tượng phù hợp bài toán quản lý)\n",
    "    name = \"\"\n",
    "    model = \"\"\n",
    "    color = \"\"\n",
    "    year = 0\n",
    "\n",
    "    # Hàm tạo (mục đích: khai báo và khởi tạo đối tượng)\n",
    "    def __init__(self, hang, ten, mau, nam_sx):\n",
    "        self.name =  hang\n",
    "        self.model = ten\n",
    "        self.color = mau\n",
    "        self.year = nam_sx\n",
    "        \n",
    "    def xuat_thong_tin(self):\n",
    "        print(f\"{self.name} {self.model} {self.color} {self.year}\")\n",
    "\n",
    "    def start(self):\n",
    "        print(\"Xe bắt đầu chạy\")\n",
    "\n",
    "    def __str__(self):\n",
    "        return f\"{self.name} {self.model} {self.color} {self.year}\"\n",
    "        \n",
    "# Demo\n",
    "mycar = Car('Mazda', 'CX5', 'Red', 2020)\n",
    "print(mycar) # mycar.__str__()\n",
    "mycar.xuat_thong_tin()\n",
    "mycar.start()\n",
    "his_car = Car('Huyndai', 'Santafe', 'Gray', 2022)\n",
    "print(his_car.model)\n",
    "\n",
    "cars = []\n",
    "cars.append(mycar)\n",
    "cars.append(his_car)\n",
    "print(cars)"
   ]
  },
  {
   "cell_type": "code",
   "execution_count": 2,
   "id": "5205c575-b009-417b-bc8f-a191fbefab5b",
   "metadata": {},
   "outputs": [
    {
     "name": "stdout",
     "output_type": "stream",
     "text": [
      "7 7\n",
      "Circle black R = 9, S = 254.46900494077323\n"
     ]
    },
    {
     "ename": "Terminator",
     "evalue": "",
     "output_type": "error",
     "traceback": [
      "\u001b[1;31m---------------------------------------------------------------------------\u001b[0m",
      "\u001b[1;31mTerminator\u001b[0m                                Traceback (most recent call last)",
      "Cell \u001b[1;32mIn[2], line 48\u001b[0m\n\u001b[0;32m     46\u001b[0m \u001b[38;5;28mprint\u001b[39m(ht1\u001b[38;5;241m.\u001b[39mradius, ht1\u001b[38;5;241m.\u001b[39mgetRadius())\n\u001b[0;32m     47\u001b[0m \u001b[38;5;28mprint\u001b[39m(ht2)\n\u001b[1;32m---> 48\u001b[0m \u001b[43mht1\u001b[49m\u001b[38;5;241;43m.\u001b[39;49m\u001b[43mdraw\u001b[49m\u001b[43m(\u001b[49m\u001b[43m)\u001b[49m\n\u001b[0;32m     50\u001b[0m c \u001b[38;5;241m=\u001b[39m Circle(\u001b[38;5;241m100\u001b[39m, \u001b[38;5;124m'\u001b[39m\u001b[38;5;124mred\u001b[39m\u001b[38;5;124m'\u001b[39m, \u001b[38;5;241m-\u001b[39m\u001b[38;5;241m200\u001b[39m, \u001b[38;5;241m0\u001b[39m)\n\u001b[0;32m     51\u001b[0m c\u001b[38;5;241m.\u001b[39mdraw()\n",
      "Cell \u001b[1;32mIn[2], line 31\u001b[0m, in \u001b[0;36mCircle.draw\u001b[1;34m(self)\u001b[0m\n\u001b[0;32m     29\u001b[0m \u001b[38;5;28;01mdef\u001b[39;00m \u001b[38;5;21mdraw\u001b[39m(\u001b[38;5;28mself\u001b[39m):\n\u001b[0;32m     30\u001b[0m \u001b[38;5;250m    \u001b[39m\u001b[38;5;124;03m\"\"\"Phương thức vẽ đường tròn\"\"\"\u001b[39;00m\n\u001b[1;32m---> 31\u001b[0m     t \u001b[38;5;241m=\u001b[39m \u001b[43mturtle\u001b[49m\u001b[38;5;241;43m.\u001b[39;49m\u001b[43mTurtle\u001b[49m\u001b[43m(\u001b[49m\u001b[43m)\u001b[49m\n\u001b[0;32m     32\u001b[0m     t\u001b[38;5;241m.\u001b[39mhideturtle()\n\u001b[0;32m     33\u001b[0m     t\u001b[38;5;241m.\u001b[39mcolor(\u001b[38;5;28mself\u001b[39m\u001b[38;5;241m.\u001b[39mcolor)\n",
      "File \u001b[1;32m~\\AppData\\Local\\Programs\\Python\\Python310\\lib\\turtle.py:3815\u001b[0m, in \u001b[0;36mTurtle.__init__\u001b[1;34m(self, shape, undobuffersize, visible)\u001b[0m\n\u001b[0;32m   3813\u001b[0m \u001b[38;5;28;01mif\u001b[39;00m Turtle\u001b[38;5;241m.\u001b[39m_screen \u001b[38;5;129;01mis\u001b[39;00m \u001b[38;5;28;01mNone\u001b[39;00m:\n\u001b[0;32m   3814\u001b[0m     Turtle\u001b[38;5;241m.\u001b[39m_screen \u001b[38;5;241m=\u001b[39m Screen()\n\u001b[1;32m-> 3815\u001b[0m \u001b[43mRawTurtle\u001b[49m\u001b[38;5;241;43m.\u001b[39;49m\u001b[38;5;21;43m__init__\u001b[39;49m\u001b[43m(\u001b[49m\u001b[38;5;28;43mself\u001b[39;49m\u001b[43m,\u001b[49m\u001b[43m \u001b[49m\u001b[43mTurtle\u001b[49m\u001b[38;5;241;43m.\u001b[39;49m\u001b[43m_screen\u001b[49m\u001b[43m,\u001b[49m\n\u001b[0;32m   3816\u001b[0m \u001b[43m                   \u001b[49m\u001b[43mshape\u001b[49m\u001b[38;5;241;43m=\u001b[39;49m\u001b[43mshape\u001b[49m\u001b[43m,\u001b[49m\n\u001b[0;32m   3817\u001b[0m \u001b[43m                   \u001b[49m\u001b[43mundobuffersize\u001b[49m\u001b[38;5;241;43m=\u001b[39;49m\u001b[43mundobuffersize\u001b[49m\u001b[43m,\u001b[49m\n\u001b[0;32m   3818\u001b[0m \u001b[43m                   \u001b[49m\u001b[43mvisible\u001b[49m\u001b[38;5;241;43m=\u001b[39;49m\u001b[43mvisible\u001b[49m\u001b[43m)\u001b[49m\n",
      "File \u001b[1;32m~\\AppData\\Local\\Programs\\Python\\Python310\\lib\\turtle.py:2558\u001b[0m, in \u001b[0;36mRawTurtle.__init__\u001b[1;34m(self, canvas, shape, undobuffersize, visible)\u001b[0m\n\u001b[0;32m   2556\u001b[0m \u001b[38;5;28mself\u001b[39m\u001b[38;5;241m.\u001b[39m_undobuffersize \u001b[38;5;241m=\u001b[39m undobuffersize\n\u001b[0;32m   2557\u001b[0m \u001b[38;5;28mself\u001b[39m\u001b[38;5;241m.\u001b[39mundobuffer \u001b[38;5;241m=\u001b[39m Tbuffer(undobuffersize)\n\u001b[1;32m-> 2558\u001b[0m \u001b[38;5;28;43mself\u001b[39;49m\u001b[38;5;241;43m.\u001b[39;49m\u001b[43m_update\u001b[49m\u001b[43m(\u001b[49m\u001b[43m)\u001b[49m\n",
      "File \u001b[1;32m~\\AppData\\Local\\Programs\\Python\\Python310\\lib\\turtle.py:2661\u001b[0m, in \u001b[0;36mRawTurtle._update\u001b[1;34m(self)\u001b[0m\n\u001b[0;32m   2659\u001b[0m     \u001b[38;5;28;01mreturn\u001b[39;00m\n\u001b[0;32m   2660\u001b[0m \u001b[38;5;28;01melif\u001b[39;00m screen\u001b[38;5;241m.\u001b[39m_tracing \u001b[38;5;241m==\u001b[39m \u001b[38;5;241m1\u001b[39m:\n\u001b[1;32m-> 2661\u001b[0m     \u001b[38;5;28;43mself\u001b[39;49m\u001b[38;5;241;43m.\u001b[39;49m\u001b[43m_update_data\u001b[49m\u001b[43m(\u001b[49m\u001b[43m)\u001b[49m\n\u001b[0;32m   2662\u001b[0m     \u001b[38;5;28mself\u001b[39m\u001b[38;5;241m.\u001b[39m_drawturtle()\n\u001b[0;32m   2663\u001b[0m     screen\u001b[38;5;241m.\u001b[39m_update()                  \u001b[38;5;66;03m# TurtleScreenBase\u001b[39;00m\n",
      "File \u001b[1;32m~\\AppData\\Local\\Programs\\Python\\Python310\\lib\\turtle.py:2647\u001b[0m, in \u001b[0;36mRawTurtle._update_data\u001b[1;34m(self)\u001b[0m\n\u001b[0;32m   2646\u001b[0m \u001b[38;5;28;01mdef\u001b[39;00m \u001b[38;5;21m_update_data\u001b[39m(\u001b[38;5;28mself\u001b[39m):\n\u001b[1;32m-> 2647\u001b[0m     \u001b[38;5;28;43mself\u001b[39;49m\u001b[38;5;241;43m.\u001b[39;49m\u001b[43mscreen\u001b[49m\u001b[38;5;241;43m.\u001b[39;49m\u001b[43m_incrementudc\u001b[49m\u001b[43m(\u001b[49m\u001b[43m)\u001b[49m\n\u001b[0;32m   2648\u001b[0m     \u001b[38;5;28;01mif\u001b[39;00m \u001b[38;5;28mself\u001b[39m\u001b[38;5;241m.\u001b[39mscreen\u001b[38;5;241m.\u001b[39m_updatecounter \u001b[38;5;241m!=\u001b[39m \u001b[38;5;241m0\u001b[39m:\n\u001b[0;32m   2649\u001b[0m         \u001b[38;5;28;01mreturn\u001b[39;00m\n",
      "File \u001b[1;32m~\\AppData\\Local\\Programs\\Python\\Python310\\lib\\turtle.py:1293\u001b[0m, in \u001b[0;36mTurtleScreen._incrementudc\u001b[1;34m(self)\u001b[0m\n\u001b[0;32m   1291\u001b[0m \u001b[38;5;28;01mif\u001b[39;00m \u001b[38;5;129;01mnot\u001b[39;00m TurtleScreen\u001b[38;5;241m.\u001b[39m_RUNNING:\n\u001b[0;32m   1292\u001b[0m     TurtleScreen\u001b[38;5;241m.\u001b[39m_RUNNING \u001b[38;5;241m=\u001b[39m \u001b[38;5;28;01mTrue\u001b[39;00m\n\u001b[1;32m-> 1293\u001b[0m     \u001b[38;5;28;01mraise\u001b[39;00m Terminator\n\u001b[0;32m   1294\u001b[0m \u001b[38;5;28;01mif\u001b[39;00m \u001b[38;5;28mself\u001b[39m\u001b[38;5;241m.\u001b[39m_tracing \u001b[38;5;241m>\u001b[39m \u001b[38;5;241m0\u001b[39m:\n\u001b[0;32m   1295\u001b[0m     \u001b[38;5;28mself\u001b[39m\u001b[38;5;241m.\u001b[39m_updatecounter \u001b[38;5;241m+\u001b[39m\u001b[38;5;241m=\u001b[39m \u001b[38;5;241m1\u001b[39m\n",
      "\u001b[1;31mTerminator\u001b[0m: "
     ]
    }
   ],
   "source": [
    "# Định nghĩa lớp hình tròn Circle\n",
    "import math\n",
    "import turtle\n",
    "\n",
    "class Circle:\n",
    "    radius = 0\n",
    "    color = ''\n",
    "    x = 0\n",
    "    y = 0\n",
    "\n",
    "    def __init__(self, radius, color, x, y):\n",
    "        self.radius = radius\n",
    "        self.color = color\n",
    "        self.x = x\n",
    "        self.y = y\n",
    "\n",
    "    def getRadius(self):\n",
    "        return self.radius\n",
    "    \n",
    "    def getArea(self):\n",
    "        return math.pi * self.radius ** 2\n",
    "\n",
    "    def getPerimeter(self):\n",
    "        \"\"\"\n",
    "        Phương thức tính chu vi đường tròn\n",
    "        \"\"\"\n",
    "        return 2 * math.pi * self.r\n",
    "\n",
    "    def draw(self):\n",
    "        \"\"\"Phương thức vẽ đường tròn\"\"\"\n",
    "        t = turtle.Turtle()\n",
    "        t.hideturtle()\n",
    "        t.color(self.color)\n",
    "        t.penup()\n",
    "        t.goto(self.x, self.y)\n",
    "        t.pendown()\n",
    "        t.circle(self.radius)\n",
    "        turtle.done()\n",
    "\n",
    "    def __str__(self):\n",
    "        return f\"Circle {self.color} R = {self.radius}, S = {self.getArea()}\"\n",
    "        \n",
    "# Demo\n",
    "ht1 = Circle(7, 'blue', 100, 100)\n",
    "ht2 = Circle(9, 'black', 200, 200)\n",
    "print(ht1.radius, ht1.getRadius())\n",
    "print(ht2)\n",
    "ht1.draw()\n",
    "\n",
    "c = Circle(100, 'red', -200, 0)\n",
    "c.draw()\n",
    "print(\"S = \", c.area())\n",
    "print(\"C = \", c.perimeter())"
   ]
  },
  {
   "cell_type": "code",
   "execution_count": null,
   "id": "fc34016a-d114-43ab-a6e4-4ec31c7372c6",
   "metadata": {},
   "outputs": [],
   "source": []
  }
 ],
 "metadata": {
  "kernelspec": {
   "display_name": "Python 3 (ipykernel)",
   "language": "python",
   "name": "python3"
  },
  "language_info": {
   "codemirror_mode": {
    "name": "ipython",
    "version": 3
   },
   "file_extension": ".py",
   "mimetype": "text/x-python",
   "name": "python",
   "nbconvert_exporter": "python",
   "pygments_lexer": "ipython3",
   "version": "3.10.7"
  }
 },
 "nbformat": 4,
 "nbformat_minor": 5
}
