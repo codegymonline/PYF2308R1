{
 "cells": [
  {
   "cell_type": "code",
   "execution_count": 20,
   "id": "6a198f01-5a2b-464c-8d69-ef22b1e70c04",
   "metadata": {},
   "outputs": [],
   "source": [
    "from tkinter import *\n",
    "from tkinter import ttk\n",
    "from tkinter.messagebox import showinfo\n",
    "\n",
    "root = Tk()\n",
    "root.geometry(\"400x300\")\n",
    "\n",
    "# ================Màn hình con=================\n",
    "def hien_man_hinh_con():\n",
    "    mh_con = Toplevel(root)\n",
    "    mh_con.geometry(\"300x300\")\n",
    "    mh_con.title(\"MÀN HÌNH CON\")\n",
    "\n",
    "    ttk.Label(mh_con, text=\"ĐÂY LÀ MÀN HÌNH CON\").pack(fill=X, padx=5, pady=5)\n",
    "    \n",
    "    mh_con.mainloop()\n",
    "# ================End Màn hình con==============\n",
    "\n",
    "# Menu chính (main menu)\n",
    "menu_bar = Menu(root)\n",
    "# nhúng menu vào màn hình chính\n",
    "root.config(menu=menu_bar)\n",
    "\n",
    "# Menu nhóm File\n",
    "menu_file = Menu(menu_bar, tearoff=False)\n",
    "menu_file.add_command(label=\"Mở MH Con\", command=hien_man_hinh_con)\n",
    "menu_file.add_command(label=\"New\")\n",
    "menu_file.add_command(label=\"Open\")\n",
    "menu_file.add_command(label=\"Save\")\n",
    "menu_file.add_command(label=\"Close\")\n",
    "menu_file.add_separator()\n",
    "menu_file.add_command(label=\"Exit\", command=root.destroy)\n",
    "\n",
    "menu_bar.add_cascade(label=\"File\", menu=menu_file)\n",
    "\n",
    "\n",
    "# Nhóm menu Help\n",
    "mnu_help = Menu(menu_bar, tearoff=0)\n",
    "mnu_help.add_command(label=\"About Jupyter\", command=lambda: showinfo(title='ABOUT', message=\"MY APP\"))\n",
    "menu_bar.add_cascade(label=\"Help\", menu=mnu_help)\n",
    "\n",
    "\n",
    "root.mainloop()"
   ]
  },
  {
   "cell_type": "code",
   "execution_count": 35,
   "id": "744a1f64-781f-43ba-ba29-0e2f1f0460e7",
   "metadata": {},
   "outputs": [],
   "source": [
    "# Demo FRAME\n",
    "from tkinter import *\n",
    "from tkinter import ttk\n",
    "\n",
    "\n",
    "root = Tk()\n",
    "root.geometry(\"400x300\")\n",
    "\n",
    "# Chia làm 3 frame: Danh sách (TreeView), thao tác (Button), chi tiết (nhiều widget bên trong...)\n",
    "frame_danh_sach = ttk.Frame(root)\n",
    "frame_tac_vu = ttk.Frame(root)\n",
    "frame_chi_tiet = ttk.Frame(root)\n",
    "frame_danh_sach.grid(row=0, column=0)\n",
    "frame_tac_vu.grid(row=1, column=0)\n",
    "frame_chi_tiet.grid(row=2, column=0)\n",
    "\n",
    "# Vùng danh sách\n",
    "san_pham_columns = ('ma_sp', 'ten_sp', 'don_gia', 'so_luong', 'loai')\n",
    "tv = ttk.Treeview(frame_danh_sach, columns=san_pham_columns, show='headings', height=4)\n",
    "tv.pack()\n",
    "\n",
    "# Vùng tác vụ (gồm các button)\n",
    "ttk.Button(frame_tac_vu, text=\"Thêm\").pack()\n",
    "\n",
    "root.mainloop()\n"
   ]
  },
  {
   "cell_type": "code",
   "execution_count": null,
   "id": "9e52c563-f0af-4d01-b3b4-7ac53543eab8",
   "metadata": {},
   "outputs": [],
   "source": []
  }
 ],
 "metadata": {
  "kernelspec": {
   "display_name": "Python 3 (ipykernel)",
   "language": "python",
   "name": "python3"
  },
  "language_info": {
   "codemirror_mode": {
    "name": "ipython",
    "version": 3
   },
   "file_extension": ".py",
   "mimetype": "text/x-python",
   "name": "python",
   "nbconvert_exporter": "python",
   "pygments_lexer": "ipython3",
   "version": "3.10.7"
  }
 },
 "nbformat": 4,
 "nbformat_minor": 5
}
