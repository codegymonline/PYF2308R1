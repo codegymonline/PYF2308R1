{
 "cells": [
  {
   "cell_type": "code",
   "execution_count": 19,
   "id": "cf34f3a8-2bb6-45db-a5ea-3e2a2db8561e",
   "metadata": {},
   "outputs": [],
   "source": [
    "# B1: Import thư viện\n",
    "from tkinter import *\n",
    "from tkinter import messagebox\n",
    "\n",
    "# B2: Tạo cửa sổ chính\n",
    "root = Tk()\n",
    "\n",
    "# B2': Setup thông số cửa số\n",
    "root.title(\"Ví dụ đầu tiên\")\n",
    "root.geometry(\"400x300\")\n",
    "\n",
    "# B4: Gắn sự kiện\n",
    "def say_hello():\n",
    "    messagebox.showinfo(title=\"Inform\", message=\"Xin chào: \")\n",
    "    \n",
    "# B3: Thêm một số widget cho ứng dụng\n",
    "Label(root, text=\"WELCOME TO TKINTER\").pack()\n",
    "txtName = Entry(root).pack()\n",
    "btnHello = Button(root, text=\"Click me\", command=say_hello).pack()\n",
    "\n",
    "\n",
    "# B5: Hiển thị cửa sổ chính\n",
    "root.mainloop()"
   ]
  },
  {
   "cell_type": "code",
   "execution_count": null,
   "id": "805643be-9bec-48c1-84fa-5d0a30fa5eaa",
   "metadata": {},
   "outputs": [],
   "source": []
  },
  {
   "cell_type": "code",
   "execution_count": null,
   "id": "66618d47-079f-4be6-bf9e-8975eb239ab9",
   "metadata": {},
   "outputs": [],
   "source": []
  },
  {
   "cell_type": "code",
   "execution_count": null,
   "id": "2aa1df09-79c6-4199-a230-a12c31a4b6a0",
   "metadata": {},
   "outputs": [],
   "source": []
  }
 ],
 "metadata": {
  "kernelspec": {
   "display_name": "Python 3 (ipykernel)",
   "language": "python",
   "name": "python3"
  },
  "language_info": {
   "codemirror_mode": {
    "name": "ipython",
    "version": 3
   },
   "file_extension": ".py",
   "mimetype": "text/x-python",
   "name": "python",
   "nbconvert_exporter": "python",
   "pygments_lexer": "ipython3",
   "version": "3.10.7"
  }
 },
 "nbformat": 4,
 "nbformat_minor": 5
}
