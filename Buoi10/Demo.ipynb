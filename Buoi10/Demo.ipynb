{
 "cells": [
  {
   "cell_type": "code",
   "execution_count": 3,
   "id": "9538c8be-03ce-4a3a-b4ea-90648fc384d1",
   "metadata": {},
   "outputs": [
    {
     "name": "stdin",
     "output_type": "stream",
     "text": [
      "Nhập vào chuỗi:  Python\n"
     ]
    },
    {
     "name": "stdout",
     "output_type": "stream",
     "text": [
      "P, y, t, h, o, n, "
     ]
    }
   ],
   "source": [
    "chuoi = input(\"Nhập vào chuỗi: \")\n",
    "\n",
    "for ki_tu in chuoi:\n",
    "    print(ki_tu, end=\", \")"
   ]
  },
  {
   "cell_type": "code",
   "execution_count": 4,
   "id": "12f9f2bb-2afc-4fb8-bb67-5cfbd0c07be7",
   "metadata": {},
   "outputs": [
    {
     "name": "stdout",
     "output_type": "stream",
     "text": [
      "Cam\n",
      "Quýt\n",
      "True\n",
      "2023\n"
     ]
    }
   ],
   "source": [
    "mang = ['Cam', \"Quýt\", True, 2023]\n",
    "for phan_tu in mang:\n",
    "    print(phan_tu)"
   ]
  },
  {
   "cell_type": "code",
   "execution_count": 9,
   "id": "ce6c57f7-0f1d-49c4-95df-336845a4ef91",
   "metadata": {},
   "outputs": [
    {
     "name": "stdout",
     "output_type": "stream",
     "text": [
      "[0, 2, 4, 6, 8, 10, 12, 14, 16, 18]\n",
      "[20, 18, 16, 14, 12, 10, 8, 6, 4, 2]\n",
      "[1, 2, 3, 4, 5, 6, 7, 8, 9, 10, 11, 12, 13, 14, 15, 16, 17, 18, 19, 20, 21, 22, 23, 24, 25, 26, 27, 28, 29, 30, 31, 32, 33, 34, 35, 36, 37, 38, 39, 40, 41, 42, 43, 44, 45, 46, 47, 48, 49, 50, 51, 52, 53, 54, 55, 56, 57, 58, 59, 60, 61, 62, 63, 64, 65, 66, 67, 68, 69, 70, 71, 72, 73, 74, 75, 76, 77, 78, 79, 80, 81, 82, 83, 84, 85, 86, 87, 88, 89, 90, 91, 92, 93, 94, 95, 96, 97, 98, 99]\n",
      "[0, 1, 2, 3, 4, 5, 6, 7, 8, 9, 10, 11, 12, 13, 14, 15, 16, 17, 18, 19]\n"
     ]
    }
   ],
   "source": [
    "# Ví dụ hàm range()\n",
    "print(list(range(0, 20, 2)))\n",
    "print(list(range(20, 0, -2)))\n",
    "print(list(range(1, 100))) # [1,2,3,...,99]\n",
    "print(list(range(20))) # [0, 1, 2, .., 19]"
   ]
  },
  {
   "cell_type": "code",
   "execution_count": 12,
   "id": "f29f5ea0-b315-4ded-a7c5-372a17508ff7",
   "metadata": {},
   "outputs": [
    {
     "name": "stdout",
     "output_type": "stream",
     "text": [
      "5\n",
      "[0, 1, 2, 3, 4]\n",
      "0 19\n",
      "1 23\n",
      "2 49\n",
      "3 777\n",
      "4 0\n"
     ]
    }
   ],
   "source": [
    "mang = [19, 23, 49, 777, 0] \n",
    "print(len(mang)) # số lượng phần tử\n",
    "print(list(range(len(mang))))\n",
    "\n",
    "# In ra vị trí (index) + giá trị (value)\n",
    "for index in range(len(mang)):\n",
    "    print(index, mang[index])"
   ]
  },
  {
   "cell_type": "code",
   "execution_count": 19,
   "id": "f7145ae5-a89c-4203-afe6-c4b3d684843a",
   "metadata": {},
   "outputs": [
    {
     "name": "stdout",
     "output_type": "stream",
     "text": [
      "1 a,b,c,2 a,b,c,3 a,b,c,\n",
      "1 a,b,c 2 a,b,c 3 a,b,c "
     ]
    }
   ],
   "source": [
    "# Slide lặp lồng\n",
    "num_list = [1, 2, 3]\n",
    "alpha_list = ['a', 'b', 'c']\n",
    "for number in num_list:\n",
    "    print(number, end=' ')\n",
    "    for letter in alpha_list:\n",
    "        print(letter, end=',')\n",
    "\n",
    "print()\n",
    "\n",
    "# Cách đơn giản\n",
    "for number in num_list:\n",
    "    print(number, ','.join(alpha_list), end=' ')"
   ]
  },
  {
   "cell_type": "code",
   "execution_count": 20,
   "id": "b8ba7809-a86c-4bf4-a75f-990c9123ca59",
   "metadata": {},
   "outputs": [
    {
     "name": "stdout",
     "output_type": "stream",
     "text": [
      "1, a\n",
      "1, b\n",
      "1, c\n",
      "2, a\n",
      "2, b\n",
      "2, c\n",
      "3, a\n",
      "3, b\n",
      "3, c\n"
     ]
    }
   ],
   "source": [
    "num_list = [1, 2, 3]\n",
    "alpha_list = ['a', 'b', 'c']\n",
    "for number in num_list:\n",
    "    for letter in alpha_list:\n",
    "        print(f\"{number}, {letter}\")\n",
    "        "
   ]
  },
  {
   "cell_type": "code",
   "execution_count": 6,
   "id": "cf3cae3b-7ed5-400f-a172-b5b7cd9148e2",
   "metadata": {},
   "outputs": [
    {
     "name": "stdout",
     "output_type": "stream",
     "text": [
      "N 1234\n"
     ]
    }
   ],
   "source": []
  },
  {
   "cell_type": "code",
   "execution_count": null,
   "id": "9f11bfe0-2f74-4d09-8ebb-6ffc560eecd2",
   "metadata": {},
   "outputs": [],
   "source": []
  }
 ],
 "metadata": {
  "kernelspec": {
   "display_name": "Python 3 (ipykernel)",
   "language": "python",
   "name": "python3"
  },
  "language_info": {
   "codemirror_mode": {
    "name": "ipython",
    "version": 3
   },
   "file_extension": ".py",
   "mimetype": "text/x-python",
   "name": "python",
   "nbconvert_exporter": "python",
   "pygments_lexer": "ipython3",
   "version": "3.10.7"
  }
 },
 "nbformat": 4,
 "nbformat_minor": 5
}
