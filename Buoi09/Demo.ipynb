{
 "cells": [
  {
   "cell_type": "code",
   "execution_count": 3,
   "id": "346895f1-4a8a-4ea2-a50b-f3f7b7aad874",
   "metadata": {},
   "outputs": [
    {
     "name": "stdout",
     "output_type": "stream",
     "text": [
      "5\n",
      "10\n",
      "15\n",
      "20\n",
      "25\n",
      "30\n",
      "35\n",
      "40\n",
      "45\n",
      "50\n",
      "55\n",
      "60\n",
      "65\n",
      "70\n",
      "75\n",
      "80\n",
      "85\n",
      "90\n",
      "95\n",
      "100\n",
      "END\n"
     ]
    }
   ],
   "source": [
    "# In ra đọc: 5, 10, 15, 20, ..., 100\n",
    "\n",
    "# Cách 1\n",
    "# my_value = 0\n",
    "\n",
    "# while my_value < 100:\n",
    "#     my_value = my_value + 5\n",
    "#     print(my_value)\n",
    "# print(\"END\")\n",
    "\n",
    "my_value = 5\n",
    "while my_value <= 100:\n",
    "    print(my_value)\n",
    "    my_value += 5 # tương đương: my_value = my_value + 5\n",
    "else:\n",
    "    print(\"END\")"
   ]
  },
  {
   "cell_type": "code",
   "execution_count": 7,
   "id": "94985a46-3d5d-4c62-894f-020edd40e203",
   "metadata": {},
   "outputs": [
    {
     "name": "stdin",
     "output_type": "stream",
     "text": [
      "Mời bạn nhập chuỗi:  a\n"
     ]
    },
    {
     "name": "stdout",
     "output_type": "stream",
     "text": [
      "a\n"
     ]
    },
    {
     "name": "stdin",
     "output_type": "stream",
     "text": [
      "Mời bạn nhập chuỗi:  d\n"
     ]
    },
    {
     "name": "stdout",
     "output_type": "stream",
     "text": [
      "d\n"
     ]
    },
    {
     "name": "stdin",
     "output_type": "stream",
     "text": [
      "Mời bạn nhập chuỗi:  e\n"
     ]
    },
    {
     "name": "stdout",
     "output_type": "stream",
     "text": [
      "e\n"
     ]
    },
    {
     "name": "stdin",
     "output_type": "stream",
     "text": [
      "Mời bạn nhập chuỗi:  Q\n"
     ]
    },
    {
     "name": "stdout",
     "output_type": "stream",
     "text": [
      "KẾT THÚC\n"
     ]
    }
   ],
   "source": [
    "'''\n",
    "• Nhập vào một chuỗi rồi in ra trang web\n",
    "• Nếu người dùng nhập vào ký tự ”q” hoặc ký tự rỗng để thoát vòng lặp (dùng lệnh break)\n",
    "'''\n",
    "while True:\n",
    "    chuoi_nhap = input(\"Mời bạn nhập chuỗi: \")\n",
    "    if chuoi_nhap.lower() == \"q\" or chuoi_nhap == \"\":\n",
    "        print('KẾT THÚC')\n",
    "        break\n",
    "    print(chuoi_nhap)\n"
   ]
  },
  {
   "cell_type": "code",
   "execution_count": 8,
   "id": "95326c75-9e8b-4608-8712-4c5ca7156706",
   "metadata": {},
   "outputs": [
    {
     "name": "stdin",
     "output_type": "stream",
     "text": [
      "Mời bạn nhập chuỗi:  Qn\n"
     ]
    },
    {
     "name": "stdout",
     "output_type": "stream",
     "text": [
      "Qn\n"
     ]
    },
    {
     "name": "stdin",
     "output_type": "stream",
     "text": [
      "Mời bạn nhập chuỗi:  d\n"
     ]
    },
    {
     "name": "stdout",
     "output_type": "stream",
     "text": [
      "d\n"
     ]
    },
    {
     "name": "stdin",
     "output_type": "stream",
     "text": [
      "Mời bạn nhập chuỗi:  \n"
     ]
    },
    {
     "name": "stdout",
     "output_type": "stream",
     "text": [
      "KẾT THÚC\n"
     ]
    }
   ],
   "source": [
    "# Cách khác (chưa tối ưu)\n",
    "chuoi_nhap = input(\"Mời bạn nhập chuỗi: \")\n",
    "while chuoi_nhap.lower() != \"q\" and chuoi_nhap != \"\":\n",
    "    print(chuoi_nhap)\n",
    "    chuoi_nhap = input(\"Mời bạn nhập chuỗi: \")\n",
    "else:\n",
    "    print('KẾT THÚC')"
   ]
  },
  {
   "cell_type": "code",
   "execution_count": 3,
   "id": "4b137577-a76d-4ab1-8b30-c1432f6367e7",
   "metadata": {},
   "outputs": [
    {
     "name": "stdout",
     "output_type": "stream",
     "text": [
      "1\n",
      "Inside Loop\n",
      "2\n",
      "Inside Loop\n",
      "CONTINUE\n",
      "4\n",
      "Inside Loop\n",
      "5\n",
      "Inside Loop\n",
      "CONTINUE\n",
      "7\n",
      "Inside Loop\n",
      "8\n",
      "Inside Loop\n",
      "CONTINUE\n",
      "10\n",
      "Inside Loop\n",
      "11\n",
      "Inside Loop\n",
      "BREAK\n"
     ]
    }
   ],
   "source": [
    "'''\n",
    "Chương trình in ra các số từ 1 đến 15.\n",
    "Nếu số đó chia hết cho 12 thì dừng.\n",
    "Nếu số đó chia hết cho 3 thì bỏ qua.\n",
    "Ngược lại in số đó ra màn hình\n",
    "'''\n",
    "so = 1\n",
    "while so <= 15:\n",
    "    if so % 12 == 0:\n",
    "        print('BREAK')\n",
    "        break\n",
    "    elif so % 3 == 0:\n",
    "        print('CONTINUE')\n",
    "        so += 1\n",
    "        continue\n",
    "    else:\n",
    "        print(so)\n",
    "\n",
    "    # Thay đổi điều kiện\n",
    "    so += 1\n",
    "    print('Inside Loop')"
   ]
  },
  {
   "cell_type": "code",
   "execution_count": null,
   "id": "3cec08ec-b056-4d0d-ab0f-10ba2a0ef348",
   "metadata": {},
   "outputs": [],
   "source": []
  }
 ],
 "metadata": {
  "kernelspec": {
   "display_name": "Python 3 (ipykernel)",
   "language": "python",
   "name": "python3"
  },
  "language_info": {
   "codemirror_mode": {
    "name": "ipython",
    "version": 3
   },
   "file_extension": ".py",
   "mimetype": "text/x-python",
   "name": "python",
   "nbconvert_exporter": "python",
   "pygments_lexer": "ipython3",
   "version": "3.10.7"
  }
 },
 "nbformat": 4,
 "nbformat_minor": 5
}
