{
 "cells": [
  {
   "cell_type": "code",
   "execution_count": 11,
   "id": "0dd76efd-9658-48e1-8736-25c7f84d6d89",
   "metadata": {},
   "outputs": [
    {
     "name": "stdout",
     "output_type": "stream",
     "text": [
      "['Anh', 'Phúc', 'Hoa', 1999, 1991.9, False]\n",
      "Có 6 bạn\n",
      "1999\n",
      "Anh\n",
      "Phúc\n",
      "Hoa\n",
      "1999\n",
      "1991.9\n",
      "False\n",
      "['Anh', 'Phúc', 'Hoa', 1999, 1991.9, False, 'Đỗ']\n",
      "Sau khi xóa: ['Anh', 'Phúc', 'Hoa', 1991.9, False, 'Đỗ']\n",
      "Sau khi xóa: ['Anh', 'Phúc', 'Hoa', False, 'Đỗ']\n"
     ]
    }
   ],
   "source": [
    "danh_sach_lop = [\"Anh\", \"Phúc\", \"Hoa\", 1999, 1991.9, False]\n",
    "print(danh_sach_lop)\n",
    "print('Có', len(danh_sach_lop), 'bạn')\n",
    "\n",
    "print(danh_sach_lop[3])\n",
    "\n",
    "for phan_tu in danh_sach_lop:\n",
    "    print(phan_tu)\n",
    "\n",
    "# Thêm phần tử vào list\n",
    "danh_sach_lop.append(\"Đỗ\")\n",
    "print(danh_sach_lop)\n",
    "\n",
    "# Xóa phần tử thứ 3\n",
    "del danh_sach_lop[3]\n",
    "print('Sau khi xóa:', danh_sach_lop)\n",
    "\n",
    "danh_sach_lop.pop(3)\n",
    "print('Sau khi xóa:', danh_sach_lop)"
   ]
  },
  {
   "cell_type": "code",
   "execution_count": 3,
   "id": "2ffc431e-7f73-4b08-843e-d6279681c726",
   "metadata": {},
   "outputs": [
    {
     "name": "stdout",
     "output_type": "stream",
     "text": [
      "[1, 2, 3, 4, 5, 6]\n",
      "[1, 2, 3]\n",
      "None\n",
      "[1, 2, 3, 4, 5, 6]\n",
      "[4, 8, 5, 6]\n"
     ]
    }
   ],
   "source": [
    "# Các hàm liên quan tới list\n",
    "'''Thêm: \n",
    "    list_1.append(x) : Thêm phần tử vào cuối ==> trả về None\n",
    "    list_1.extend(list_2): Thêm các phần tử mảng list_2 vào cuối mảng list_2 ==> trả về None\n",
    "    list_1 + list_2: cộng/nối 2 list ==> trả về list\n",
    "    list_1.insert(vị_trí, giá_trị)\n",
    "'''\n",
    "l1 = [1,2,3]\n",
    "l2 = [4,5,6]\n",
    "print(l1 + l2)\n",
    "print(l1)\n",
    "print(l1.extend(l2))\n",
    "print(l1)\n",
    "l2.insert(1, 8) #Chèn vào vị trí [1] của l2 giá trị 8\n",
    "print(l2)"
   ]
  },
  {
   "cell_type": "code",
   "execution_count": 14,
   "id": "944c2df5-e503-4792-aa5b-e2eefb9141f7",
   "metadata": {},
   "outputs": [
    {
     "name": "stdout",
     "output_type": "stream",
     "text": [
      "['Python', 'R', 'SQL', 'C#', 'C++', 'Java', 'Go']\n",
      "['Python', 'R', 'C++', 'Java', 'Go']\n",
      "['Python', 'R', 'C++', 'Go']\n",
      "[]\n"
     ]
    }
   ],
   "source": [
    "'''Xóa phần tử trong list\n",
    "- Dùng hàm câu lệnh del: Cú pháp:\n",
    "    del <phần_tử>\n",
    "    del <mảng_các_phần_tử>\n",
    "- Dùng hàm remove()\n",
    "    list_1.remove(gia_tri_remove) # gia_tri_remove: phải tồn tại trong list\n",
    "- Remove tất cả phần tử:\n",
    "    list_1.clear() # Sau khi chạy list_1 = []\n",
    "- Xóa phần tử cuối:\n",
    "    list_1.pop() #Trả về giá trị phần tử xóa\n",
    "'''\n",
    "ngon_ngu_lap_trinh = ['Python', 'Power BI', 'R', 'SQL', 'C#', 'C++', 'Java', 'Go']\n",
    "del ngon_ngu_lap_trinh[1] # Remove 'Power BI'\n",
    "print(ngon_ngu_lap_trinh)\n",
    "del ngon_ngu_lap_trinh[2:4] # Remove 'SQL', 'C#'\n",
    "print(ngon_ngu_lap_trinh)\n",
    "# del ngon_ngu_lap_trinh\n",
    "# print(ngon_ngu_lap_trinh)\n",
    "ngon_ngu_lap_trinh.remove('Java')\n",
    "print(ngon_ngu_lap_trinh)\n",
    "ngon_ngu_lap_trinh.clear()\n",
    "print(ngon_ngu_lap_trinh)"
   ]
  },
  {
   "cell_type": "code",
   "execution_count": 19,
   "id": "d98cb777-085f-4bc9-8111-456380f1c258",
   "metadata": {},
   "outputs": [
    {
     "name": "stdout",
     "output_type": "stream",
     "text": [
      "[1, 2, 3]\n",
      "[1, 9, 16] [1, 9, 16]\n",
      "[4, 5, 6] [4, 999, 6]\n"
     ]
    }
   ],
   "source": [
    "'''Demo .copy(), .clone()\n",
    "'''\n",
    "a = [1, 2, 3]\n",
    "b = [4, 5, 6]\n",
    "c = a\n",
    "print(c)\n",
    "c[1] = 9\n",
    "a[2] = 16\n",
    "print(a, c)\n",
    "\n",
    "d = b.copy() # Tạo mảng mới và copy giá trị qua\n",
    "d[1] = 999\n",
    "print(b, d)"
   ]
  },
  {
   "cell_type": "code",
   "execution_count": 25,
   "id": "176ea709-b581-4a85-95ed-4bde79722027",
   "metadata": {},
   "outputs": [
    {
     "name": "stdout",
     "output_type": "stream",
     "text": [
      "Đà Nẵng\n",
      "['Sài Gòn', 'Đà Nẵng', 'Hà Nội']\n",
      "['Sài Gòn', 'Quy Nhơn', 'Hà Nội']\n",
      "('Sài Gòn', 'Quy Nhơn', 'Hà Nội')\n"
     ]
    }
   ],
   "source": [
    "#DEMO TUPLE\n",
    "bo_ba = ('Sài Gòn', 'Đà Nẵng', 'Hà Nội')\n",
    "print(bo_ba[1])\n",
    "# bo_ba[1] = 'Quy Nhơn' #Sai do tuple ko cho thay đổi giá trị phần tử\n",
    "\n",
    "bo_ba_new = list(bo_ba)\n",
    "print(bo_ba_new)\n",
    "bo_ba_new[1] = 'Quy Nhơn'\n",
    "print(bo_ba_new)\n",
    "\n",
    "bo_ba = tuple(bo_ba_new)\n",
    "print(bo_ba)"
   ]
  },
  {
   "cell_type": "code",
   "execution_count": 27,
   "id": "9871de9b-4be1-41cb-a9ae-3fc7383361a0",
   "metadata": {},
   "outputs": [
    {
     "name": "stdout",
     "output_type": "stream",
     "text": [
      "[5, 7]\n",
      "[5, 9, 4]\n"
     ]
    }
   ],
   "source": [
    "arr = [1, 3, 5, 7, 9, 2, 4, 6, 8]\n",
    "print(arr[2:4]) # 5, 7\n",
    "print(arr[2:8:2]) # 5, 9 # Lst[ Initial : End : IndexJump ]"
   ]
  },
  {
   "cell_type": "code",
   "execution_count": null,
   "id": "48c6d2a7-9108-44bd-860f-21697f43edaf",
   "metadata": {},
   "outputs": [],
   "source": []
  }
 ],
 "metadata": {
  "kernelspec": {
   "display_name": "Python 3 (ipykernel)",
   "language": "python",
   "name": "python3"
  },
  "language_info": {
   "codemirror_mode": {
    "name": "ipython",
    "version": 3
   },
   "file_extension": ".py",
   "mimetype": "text/x-python",
   "name": "python",
   "nbconvert_exporter": "python",
   "pygments_lexer": "ipython3",
   "version": "3.10.7"
  }
 },
 "nbformat": 4,
 "nbformat_minor": 5
}
