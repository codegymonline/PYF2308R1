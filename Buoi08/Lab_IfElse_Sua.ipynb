{
 "cells": [
  {
   "cell_type": "markdown",
   "id": "49302863",
   "metadata": {},
   "source": [
    "# Thực hành: Cấu trúc điều kiện"
   ]
  },
  {
   "cell_type": "markdown",
   "id": "46ccf6e6",
   "metadata": {},
   "source": [
    "### Bài 1: Viết chương trình nhập vào chiều dài và chiều rộng của hình chữ nhật và cho biết đó có phải là hình vuông hay không."
   ]
  },
  {
   "cell_type": "code",
   "execution_count": null,
   "id": "556994f0",
   "metadata": {},
   "outputs": [],
   "source": []
  },
  {
   "cell_type": "markdown",
   "id": "9fb580f4",
   "metadata": {},
   "source": [
    "### Bài 2: Viết chương trình nhập vào 2 số a, b và in ra số lớn nhất"
   ]
  },
  {
   "cell_type": "code",
   "execution_count": null,
   "id": "8addea4b",
   "metadata": {},
   "outputs": [],
   "source": []
  },
  {
   "cell_type": "markdown",
   "id": "69d21160",
   "metadata": {},
   "source": [
    "### Bài 3: Viết chương trình nhập vào 3 số a, b, c và in ra số lớn nhất"
   ]
  },
  {
   "cell_type": "code",
   "execution_count": null,
   "id": "999d6399",
   "metadata": {},
   "outputs": [],
   "source": []
  },
  {
   "cell_type": "markdown",
   "id": "4e8b134a",
   "metadata": {},
   "source": [
    "### Bài 4: Viết chương trình nhập vào số tuổi của 3 người và cho biết ai là người trẻ nhất và ai là người lớn tuổi nhất"
   ]
  },
  {
   "cell_type": "code",
   "execution_count": null,
   "id": "595c46a2",
   "metadata": {},
   "outputs": [],
   "source": []
  },
  {
   "cell_type": "markdown",
   "id": "bab39fe3",
   "metadata": {},
   "source": [
    "### Bài 5: Viết chương trình nhập vào một số bất kỳ và in ra giá trị tuyệt đối của số đó"
   ]
  },
  {
   "cell_type": "code",
   "execution_count": null,
   "id": "db1b6c29",
   "metadata": {},
   "outputs": [],
   "source": []
  },
  {
   "cell_type": "markdown",
   "id": "34ff32df",
   "metadata": {},
   "source": [
    "### Bài 6: Học viên sẽ không đủ điều kiện thi nếu tỉ lệ có mặt nhỏ hơn 75%. Viết chương trình nhập vào tổng số buổi học của một khóa học và tổng số buổi học mà học viên tham gia. Sau đó cho biết học viên đó có đủ điều kiện thi hay không."
   ]
  },
  {
   "cell_type": "code",
   "execution_count": null,
   "id": "3eaa86ce",
   "metadata": {},
   "outputs": [],
   "source": []
  },
  {
   "cell_type": "markdown",
   "id": "dfd13726",
   "metadata": {},
   "source": [
    "### Bài 7: Một công ty vận tải có cách tính chi phí giao hàng như sau:\n",
    "1. 10kilogram đầu tiên: \\$5/kg\n",
    "2. Từ kilogram thứ 11 đến 20: \\$7/kg\n",
    "3. Từ kilogram thứ 20 trở lên: \\$10/kg\n",
    "\n",
    "Viết chương trình nhập vào số kg cần giao(số nguyên) và in ra chi phí giao hàng tương ứng"
   ]
  },
  {
   "cell_type": "code",
   "execution_count": null,
   "id": "7db18fdc",
   "metadata": {},
   "outputs": [],
   "source": [
    "weight = int(input(\"Please input weight: \"))\n",
    "\n",
    "if weight <= 10:\n",
    "    deliverry_cost = weight * 5\n",
    "elif weight <= 20:\n",
    "    delivery_cost = 10 * 5 + (weight - 10) * 7\n",
    "else:\n",
    "    delivery_cost = 10 * 5 + 10 * 7 + (weight - 20) * 10\n",
    "    \n",
    "print(f\"Delivery cost is: {delivery_cost}USD.\")"
   ]
  },
  {
   "cell_type": "markdown",
   "id": "bd90d2aa",
   "metadata": {},
   "source": [
    "### Bài 8: Viết chương trình nhập vào số năm và cho biết năm đó là năm nhuận hay năm không nhuận."
   ]
  },
  {
   "cell_type": "code",
   "execution_count": null,
   "id": "b76553cd",
   "metadata": {},
   "outputs": [],
   "source": [
    "year = 2016\n",
    "if (year % 4 == 0 and year % 100 != 0) or (year % 400 == 0):\n",
    "    print(f\"{year} là năm nhuận\")\n",
    "else:\n",
    "    print(f\"{year} không phải là năm nhuận\")"
   ]
  },
  {
   "cell_type": "markdown",
   "id": "b9785142",
   "metadata": {},
   "source": [
    "### Bài 9: Viết chương trình nhập vào 1 số từ 1 đến 7 và in ra số ngày trong tuần tương ứng như sau:\n",
    "- 1: Sunday\n",
    "- 2: Monday\n",
    "- 3: Tuesday\n",
    "- 4: Wednesday\n",
    "- 5: Thursday\n",
    "- 6: Friday\n",
    "- 7: Saturday"
   ]
  },
  {
   "cell_type": "code",
   "execution_count": 18,
   "id": "f34e32bc",
   "metadata": {},
   "outputs": [
    {
     "name": "stdin",
     "output_type": "stream",
     "text": [
      "Nhập 1 số từ 1 đến 7:  2\n"
     ]
    },
    {
     "name": "stdout",
     "output_type": "stream",
     "text": [
      "Monday\n"
     ]
    }
   ],
   "source": [
    "thu = int(input(\"Nhập 1 số từ 1 đến 7: \"))\n",
    "if thu < 1 or thu > 7:\n",
    "    print('Invalid')\n",
    "else:\n",
    "    if thu == 1: print('Sunday')\n",
    "    elif thu == 2: print('Monday')"
   ]
  },
  {
   "cell_type": "markdown",
   "id": "8ea2e041",
   "metadata": {},
   "source": [
    "### Bài 10:\n",
    "Tại một cửa hàng nọ có menu như sau:\n",
    "\n",
    "1. Gà rán giá 35k\n",
    "2. Hamburger giá 50k\n",
    "3. Pesi giá 10k\n",
    "\n",
    "Nhập số lượng món hàng cần mua\n",
    "\n",
    "Tính và in ra tổng giá tiền\n",
    "\n",
    "Nếu giá trị đơn hàng trên 2 triệu, giảm 10% cho khách, trên 4 triệu, giảm 15%\n",
    "\n",
    "Tính và in ra tổng giá tiền được giảm\n",
    "\n",
    "Tính và in ra tổng giá tiền khách cần trả\n",
    "\n",
    "In ra dòng chữ \"Cảm ơn quý khách đã mua hàng\""
   ]
  },
  {
   "cell_type": "code",
   "execution_count": null,
   "id": "87c6d4a1",
   "metadata": {},
   "outputs": [],
   "source": [
    "\"\"\"Ví dụ:\n",
    "Nhập số lượng gà rán khách mua:100\n",
    "Nhập số lượng hamburger khách mua:100\n",
    "Nhập số lượng pesi khách mua:15\n",
    "Tổng giá tiền đơn hàng là: 8.650.000\n",
    "Tổng tiền được giảm là: 1.297.500\n",
    "Tổng tiền phải thanh toán: 7.352.500\n",
    "Cảm ơn quý khách đã mua\n",
    "\"\"\""
   ]
  },
  {
   "cell_type": "code",
   "execution_count": 2,
   "id": "f75fa383",
   "metadata": {},
   "outputs": [
    {
     "name": "stdout",
     "output_type": "stream",
     "text": [
      "Nhập số lượng gà rán khách mua: 0\n",
      "Nhập số lượng hamburger khách mua: 0\n",
      "Nhập số lượng pepsi khách mua: 300\n",
      "Tổng giá tiền đơn hàng là: 3000000\n",
      "Tổng tiền được giảm là: 300000.0\n",
      "Tổng tiền phải thanh toán: 2700000.0\n",
      "Cảm ơn quý khách đã mua hàng\n"
     ]
    }
   ],
   "source": [
    "price_fried_chicken = 35000\n",
    "price_hamburger = 50000\n",
    "price_pepsi = 10000\n",
    "\n",
    "quantity_fried_chicken = int(input(\"Nhập số lượng gà rán khách mua: \"))\n",
    "quantity_hamburger = int(input(\"Nhập số lượng hamburger khách mua: \"))\n",
    "quantity_pepsi = int(input(\"Nhập số lượng pepsi khách mua: \"))\n",
    "\n",
    "total_price = (price_fried_chicken * quantity_fried_chicken)\\\n",
    "                + (price_hamburger * quantity_hamburger)\\\n",
    "                + (price_pepsi * quantity_pepsi)\n",
    "        \n",
    "print(f\"Tổng giá tiền đơn hàng là: {total_price}\")\n",
    "\n",
    "if total_price >= 4000000:\n",
    "    discount = 0.15 * total_price\n",
    "    print(f\"Tổng tiền được giảm là: {discount}\")\n",
    "    total_price -= discount\n",
    "elif total_price >= 2000000:\n",
    "    discount = 0.1 * total_price\n",
    "    print(f\"Tổng tiền được giảm là: {discount}\")\n",
    "    total_price -= discount\n",
    "    \n",
    "print(f\"Tổng tiền phải thanh toán: {total_price}\")\n",
    "print(\"Cảm ơn quý khách đã mua hàng\")"
   ]
  },
  {
   "cell_type": "markdown",
   "id": "e9853dc8",
   "metadata": {},
   "source": [
    "### Bài 11:\n",
    "\n",
    "Nhập vào chiều cao (cm) và cân nặng (kg), tính số BMI và xét rồi xin kết quả theo dữ liệu sau:\n",
    "\n",
    "- BMI < 16: Gầy cấp độ III\n",
    "- 16 <= BMI < 17:  Gầy cấp độ II\n",
    "- 17<= BMI < 18.5: Gầy cấp độ I\n",
    "- 18.5 <= BMI < 25: Bình thường\n",
    "- 25 <= BMI < 30: Thừa cân\n",
    "- 30 <= BMI < 35 : Béo phì cấp độ I\n",
    "- 35 <= BMI < 40: Béo phì cấp độ II\n",
    "- BMI > 40: Béo phì cấp độ III"
   ]
  },
  {
   "cell_type": "code",
   "execution_count": 4,
   "id": "ac5f1a74",
   "metadata": {},
   "outputs": [
    {
     "name": "stdin",
     "output_type": "stream",
     "text": [
      "Nhập chiều cao (cm):  164\n",
      "Nhập cân nặng (kq):  68\n"
     ]
    },
    {
     "name": "stdout",
     "output_type": "stream",
     "text": [
      "Nặng: 68.0 kg, cao: 1.64 m, BMI=25.282569898869724\n",
      "Thua can\n"
     ]
    }
   ],
   "source": [
    "chieu_cao = int(input(\"Nhập chiều cao (cm): \")) / 100\n",
    "can_nang = float(input(\"Nhập cân nặng (kq): \"))\n",
    "\n",
    "# BMI = cân nặng / (chiều cao ^ 2)\n",
    "BMI = can_nang / (chieu_cao ** 2)\n",
    "print(f\"Nặng: {can_nang} kg, cao: {chieu_cao} m, BMI={BMI}\")\n",
    "\n",
    "if BMI < 16:\n",
    "    print(\"Gay cap do III\")\n",
    "elif BMI < 17:\n",
    "    print(\"Gay cap do II\")\n",
    "elif BMI < 18.5:\n",
    "    print(\"Gay cap do I\")\n",
    "elif BMI < 25:\n",
    "    print(\"Binh thuong\")\n",
    "elif BMI < 30:\n",
    "    print(\"Thua can\")\n",
    "elif BMI < 35:\n",
    "    print(\"Beo phi cap do I\")\n",
    "elif BMI < 40:\n",
    "    print(\"Beo phi cap do II\")\n",
    "else:\n",
    "    print(\"Beo phi cap do III\")\n"
   ]
  },
  {
   "cell_type": "code",
   "execution_count": 2,
   "id": "c329bede-9208-486b-a7f0-561ea8a0e12a",
   "metadata": {},
   "outputs": [
    {
     "data": {
      "text/plain": [
       "25"
      ]
     },
     "execution_count": 2,
     "metadata": {},
     "output_type": "execute_result"
    }
   ],
   "source": [
    "5**2 #Hàm mũ dùng 2 dấu * liên tiếp: A^B = A**B"
   ]
  },
  {
   "cell_type": "markdown",
   "id": "5e374dbb",
   "metadata": {},
   "source": [
    "### Bài 12: Tìm ra người lớn tuổi nhất trong 4 người thông qua số tuổi nhập vào từ người dùng."
   ]
  },
  {
   "cell_type": "code",
   "execution_count": 6,
   "id": "d0124153",
   "metadata": {},
   "outputs": [
    {
     "name": "stdout",
     "output_type": "stream",
     "text": [
      "5\n",
      "Người lớn tuổi nhất là người thứ 4\n"
     ]
    }
   ],
   "source": [
    "num1 = 3\n",
    "num2 = 4\n",
    "num3 = 1\n",
    "num4 = 5\n",
    "\n",
    "max_value = num1\n",
    "index = 1\n",
    "\n",
    "if num2 > max_value:\n",
    "    max_value = num2\n",
    "    index = 2\n",
    "    \n",
    "if num3 > max_value:\n",
    "    max_value = num3\n",
    "    index = 3\n",
    "\n",
    "if num4 > max_value:\n",
    "    max_value = num4\n",
    "    index = 4\n",
    "    \n",
    "print(max_value)\n",
    "print(f\"Người lớn tuổi nhất là người thứ {index}\")"
   ]
  },
  {
   "cell_type": "markdown",
   "id": "8b8cd5ce",
   "metadata": {},
   "source": [
    "## BONUS"
   ]
  },
  {
   "cell_type": "markdown",
   "id": "78de408b",
   "metadata": {},
   "source": [
    "### Bài 13: Viết chương trình nhập vào số đo 3 cạnh của tam giác và cho biết đó là tam giác cân, tam giác đều hay tam giác vô hướng\n",
    "Ghi chú:\n",
    " - Tam giác cân là tam giác có 2 cạnh bằng nhau\n",
    " - Tam giác đều là tam giác có 3 cạnh bằng nhau\n",
    " - Tam giác vô hướng là tam giác không có cạnh nào bằng nhau"
   ]
  },
  {
   "cell_type": "code",
   "execution_count": 36,
   "id": "13dcfd68",
   "metadata": {},
   "outputs": [
    {
     "name": "stdin",
     "output_type": "stream",
     "text": [
      "Hãy nhập cạnh 1:  4\n",
      "Hãy nhập cạnh 2:  3\n",
      "Hãy nhập cạnh 3:  5\n"
     ]
    },
    {
     "name": "stdout",
     "output_type": "stream",
     "text": [
      "Tam giác vuông\n"
     ]
    }
   ],
   "source": [
    "# Tam giác vuông thì bình phương cảnh huyền = tổng bình phương 2 cạnh còn lại\n",
    "canh1= int(input(\"Hãy nhập cạnh 1: \"))\n",
    "canh2= int(input(\"Hãy nhập cạnh 2: \"))\n",
    "canh3= int(input(\"Hãy nhập cạnh 3: \"))\n",
    "\n",
    "if canh1 == canh2 == canh3:\n",
    "    print(\"Đây là tam giác đều.\")\n",
    "else:\n",
    "    if canh1 == canh2 or canh2 == canh3 or canh1 == canh3:\n",
    "        print(\"Đây là tam giác cân.\")\n",
    "    if (canh1 ** 2 == canh2 ** 2 + canh3 ** 2 or canh2 ** 2 == canh1 ** 2 + canh3 ** 2 \n",
    "        or canh3 ** 2 == canh1 ** 2 + canh2 ** 2):\n",
    "        print(\"Tam giác vuông\")"
   ]
  },
  {
   "cell_type": "markdown",
   "id": "d3de6fbd",
   "metadata": {},
   "source": [
    "### Bài 14: Viết chương trình nhập vào 3 số nguyên khác nhau và in ra số lớn thứ hai"
   ]
  },
  {
   "cell_type": "code",
   "execution_count": null,
   "id": "1d2f12a9",
   "metadata": {},
   "outputs": [],
   "source": []
  },
  {
   "cell_type": "raw",
   "id": "447f10f8-6bed-4abe-98c6-9e123d559d7b",
   "metadata": {},
   "source": [
    "### Bài 15: Xem đoạn code sau:\n",
    "![image.png](attachment:image.png)\n",
    "Nếu i, j, k có các giá trị ban đầu là:\n",
    "\n",
    "a. i = 3, j = 5, k = 7\n",
    "\n",
    "b. i = 13, j = 15, k = 13\n",
    "\n",
    "Thì giá trị của i, j, k sau khi thực hiện đoạn code trên là bao nhiêu?(kiểm tra bằng cách tính nhẩm, không code lại)"
   ]
  },
  {
   "cell_type": "markdown",
   "id": "e050841c",
   "metadata": {},
   "source": [
    "### Bài 16: Viết một chương trình thực hiện phép tính đơn giản như sau:\n",
    "```\n",
    "    Nhập số thứ nhất: 16\n",
    "    Nhập số thứ hai: 9\n",
    "    Nhập toán tử (+, -, *, /): +\n",
    "    Kết quả: 16 + 9 = 25\n",
    "```"
   ]
  },
  {
   "cell_type": "code",
   "execution_count": null,
   "id": "14cda4fa",
   "metadata": {},
   "outputs": [],
   "source": []
  },
  {
   "cell_type": "markdown",
   "id": "8044d943",
   "metadata": {},
   "source": [
    "### Bài 17: Viết chương trình nhập vào 3 số nguyên và in ra màn hình theo thứ tự từ lớn đến bé."
   ]
  },
  {
   "cell_type": "code",
   "execution_count": 22,
   "id": "67e51662",
   "metadata": {},
   "outputs": [
    {
     "name": "stdin",
     "output_type": "stream",
     "text": [
      "Số thứ nhất:  12\n",
      "Số thứ hai:  99\n",
      "Số thứ ba:  2\n"
     ]
    },
    {
     "name": "stdout",
     "output_type": "stream",
     "text": [
      "99 12 2\n"
     ]
    }
   ],
   "source": [
    "a = int(input('Số thứ nhất: '))\n",
    "b = int(input('Số thứ hai: '))\n",
    "c = int(input('Số thứ ba: '))\n",
    "\n",
    "max_n =max(a, b, c)\n",
    "min_n =min(a, b, c)\n",
    "# số thứ 2 = tổng (a + b + c) - max - min\n",
    "mid_n = a + b + c - max_n - min_n\n",
    "print(max_n, mid_n, min_n)"
   ]
  },
  {
   "cell_type": "code",
   "execution_count": 6,
   "id": "a88e6b00-8c79-4750-96bd-2cb6da60f2bb",
   "metadata": {},
   "outputs": [
    {
     "name": "stdin",
     "output_type": "stream",
     "text": [
      "Hãy nhập số tiền bạn đã chi tại cửa hàng($):  123\n"
     ]
    },
    {
     "name": "stdout",
     "output_type": "stream",
     "text": [
      "Giảm giá: 25 $\n",
      "Tổng số tiền bạn phải thanh toán là: $98\n",
      "Tổng số tiền bạn phải thanh toán là: $98\n"
     ]
    }
   ],
   "source": [
    "'''\n",
    "Viết chương trình hỏi người dùng đã chi tiêu bao nhiêu tiền tại cửa hàng.\n",
    "Nếu họ chi ít hơn 75$, họ sẽ không được giảm giá.\n",
    "Nếu họ chi 75$ trở lên, họ sẽ được giảm giá 15$.\n",
    "Nếu người dùng chi từ 100$ trở lên, họ sẽ được giảm giá 25$.\n",
    "Nếu người dùng chi từ 150$ trở lên, họ sẽ được giảm giá 50$.\n",
    "Sau đó in ra tổng số tiền mà người dùng phải thanh toán.\n",
    "'''\n",
    "so_tien_da_chi = int(input(\"Hãy nhập số tiền bạn đã chi tại cửa hàng($): \"))\n",
    "giam_gia = 0\n",
    "\n",
    "# Xác định số tiền giảm giá dựa trên số tiền đã chi\n",
    "if so_tien_da_chi >= 150:\n",
    "    giam_gia = 50\n",
    "elif so_tien_da_chi >= 100:\n",
    "    giam_gia = 25\n",
    "elif so_tien_da_chi >= 75:\n",
    "    giam_gia = 15\n",
    "\n",
    "print(f\"Giảm giá: {giam_gia} $\")\n",
    "\n",
    "# Tính tổng số tiền phải thanh toán\n",
    "tong_tien_phai_thanh_toan = so_tien_da_chi - giam_gia\n",
    "\n",
    "# In ra tổng số tiền phải thanh toán\n",
    "print(\"Tổng số tiền bạn phải thanh toán là: ${}\".format(tong_tien_phai_thanh_toan))\n",
    "print(f\"Tổng số tiền bạn phải thanh toán là: ${tong_tien_phai_thanh_toan}\")"
   ]
  },
  {
   "cell_type": "code",
   "execution_count": 15,
   "id": "57eccd92-1f62-4475-92ec-42050d6c29ae",
   "metadata": {},
   "outputs": [
    {
     "name": "stdin",
     "output_type": "stream",
     "text": [
      "nhập số tiền chi tiêu tại của hàng: 151\n"
     ]
    },
    {
     "name": "stdout",
     "output_type": "stream",
     "text": [
      "số tiền bạn phải thanh toán là: 101.0\n"
     ]
    }
   ],
   "source": [
    "do_la = float(input(\"nhập số tiền chi tiêu tại của hàng:\"))\n",
    "if do_la > 0:\n",
    "    if do_la < 75:\n",
    "        print(f\"số tiền bạn phải thanh toán là: {do_la}\")\n",
    "    elif do_la < 100:\n",
    "        print(f\"số tiền bạn phải thanh toán là: {do_la - 15}\") \n",
    "    elif do_la < 150:\n",
    "        print(f\"số tiền bạn phải thanh toán là: {do_la - 25}\")\n",
    "    else:\n",
    "        print(f\"số tiền bạn phải thanh toán là: {do_la - 50}\")\n",
    "else:\n",
    "    print(\"bạn nhập sai thông tin\")\n"
   ]
  },
  {
   "cell_type": "code",
   "execution_count": null,
   "id": "d99d2df3-409c-455a-a19a-d339f9e6c614",
   "metadata": {},
   "outputs": [],
   "source": []
  }
 ],
 "metadata": {
  "kernelspec": {
   "display_name": "Python 3 (ipykernel)",
   "language": "python",
   "name": "python3"
  },
  "language_info": {
   "codemirror_mode": {
    "name": "ipython",
    "version": 3
   },
   "file_extension": ".py",
   "mimetype": "text/x-python",
   "name": "python",
   "nbconvert_exporter": "python",
   "pygments_lexer": "ipython3",
   "version": "3.10.7"
  }
 },
 "nbformat": 4,
 "nbformat_minor": 5
}
