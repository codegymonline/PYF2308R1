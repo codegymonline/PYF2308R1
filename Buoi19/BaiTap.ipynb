{
 "cells": [
  {
   "cell_type": "markdown",
   "id": "d7c51728-7938-4827-a1d8-bdde42cef4b2",
   "metadata": {},
   "source": [
    "Viết lớp Diem để biểu diễn thông tin điểm trong mặt Oxy và cách hàm khai thác thông tin đó:\n",
    "* dich_chuyen(dx, dy)\n",
    "* khoang_cach_tu_O()\n",
    "* khoang_cach_toi_diem(other)\n",
    "* __init()__\n",
    "* __str()__"
   ]
  },
  {
   "cell_type": "code",
   "execution_count": 12,
   "id": "4a0158a0-a309-4ea0-a041-da6b5555b5c0",
   "metadata": {},
   "outputs": [
    {
     "name": "stdout",
     "output_type": "stream",
     "text": [
      "P(11, 4)\n",
      "Q(11, -9)\n",
      "13.0\n"
     ]
    }
   ],
   "source": [
    "from math import sqrt\n",
    "class Diem:\n",
    "    # Khai báo thuộc tính (ko bắt buộc)\n",
    "    x : int = 0\n",
    "    y : int = 0\n",
    "    label: str = \"\"\n",
    "\n",
    "    def __init__(self, label, x, y):\n",
    "        self.x = x\n",
    "        self.y = y\n",
    "        self.label = label\n",
    "        \n",
    "    def __str__(self):\n",
    "        return f\"{self.label}({self.x}, {self.y})\"\n",
    "\n",
    "    def dich_chuyen(self, dx, dy):\n",
    "        self.x += dx\n",
    "        self.y += dy\n",
    "\n",
    "    def khoang_cach_toi_diem(self, other: Diem):\n",
    "        delta_x = self.x - other.x\n",
    "        delta_y = self.y - other.y\n",
    "        return sqrt(delta_x**2 + delta_y**2)\n",
    "    \n",
    "\n",
    "# Demo\n",
    "A = Diem(\"P\", 11, 4)\n",
    "print(A)\n",
    "B = Diem(\"Q\", 11, -9)\n",
    "print(B)\n",
    "print(B.khoang_cach_toi_diem(A))"
   ]
  },
  {
   "cell_type": "code",
   "execution_count": 23,
   "id": "5c663686-d6fe-4b78-98fd-d96475044ff3",
   "metadata": {},
   "outputs": [
    {
     "name": "stdout",
     "output_type": "stream",
     "text": [
      "3/4\n",
      "6/7\n",
      "None\n"
     ]
    }
   ],
   "source": [
    "# Định nghĩa lớp phân số PhanSo gồm tử, mẫu nguyên.\n",
    "from math import gcd\n",
    "class PhanSo:\n",
    "    tu_so = 1\n",
    "    mau_so = 1\n",
    "\n",
    "    def __init__(self, tu, mau):\n",
    "        self.tu_so = tu\n",
    "        self.mau_so = mau\n",
    "\n",
    "    def __str__(self):\n",
    "        return f\"{self.tu_so}/{self.mau_so}\"\n",
    "\n",
    "    # Rút gọn phân số\n",
    "    def rut_gon(self):\n",
    "        ucln = gcd(self.tu_so, self.mau_so)\n",
    "        self.tu_so = int(self.tu_so / ucln)\n",
    "        self.mau_so = int(self.mau_so / ucln)\n",
    "\n",
    "    def __add__(self, other):\n",
    "        tu_so_moi = self.tu_so * other.mau_so + self.mau_so * other.tu_so\n",
    "        mau_so_moi = self.mau_so * other.mau_so\n",
    "        ket_qua = PhanSo(tu_so_moi, mau_so_moi)\n",
    "        ket_qua.rut_gon()\n",
    "        return ket_qua\n",
    "\n",
    "    def __mul__(self, other):\n",
    "        pass\n",
    "\n",
    "ps1 = PhanSo(3,4)\n",
    "print(ps1)\n",
    "ps2 = PhanSo(12,14)\n",
    "ps2.rut_gon()\n",
    "print(ps2)\n",
    "print(ps1 + ps2)"
   ]
  },
  {
   "cell_type": "code",
   "execution_count": 30,
   "id": "7dcb5997-922a-4e6c-b629-abecc80e2f54",
   "metadata": {},
   "outputs": [
    {
     "name": "stdout",
     "output_type": "stream",
     "text": [
      "Z(1.1, 0, 9)\n",
      "Z(1.1, 0, 9)\n"
     ]
    }
   ],
   "source": [
    "class Diem3D(Diem):\n",
    "    x = 0\n",
    "\n",
    "    def __init__(self, label, x, y, z):\n",
    "        Diem.__init__(self, label, x, y)\n",
    "        self.z = z\n",
    "\n",
    "    def __str__(self):\n",
    "        return f\"{self.label}({self.x}, {self.y}, {self.z})\"\n",
    "        \n",
    "C = Diem3D(\"Z\", 1.1, 0, 9)\n",
    "print(C)\n",
    "print(C.__str__())"
   ]
  },
  {
   "cell_type": "code",
   "execution_count": null,
   "id": "907aec16-ca5e-46c1-8c43-583e26a42383",
   "metadata": {},
   "outputs": [],
   "source": []
  }
 ],
 "metadata": {
  "kernelspec": {
   "display_name": "Python 3 (ipykernel)",
   "language": "python",
   "name": "python3"
  },
  "language_info": {
   "codemirror_mode": {
    "name": "ipython",
    "version": 3
   },
   "file_extension": ".py",
   "mimetype": "text/x-python",
   "name": "python",
   "nbconvert_exporter": "python",
   "pygments_lexer": "ipython3",
   "version": "3.10.7"
  }
 },
 "nbformat": 4,
 "nbformat_minor": 5
}
