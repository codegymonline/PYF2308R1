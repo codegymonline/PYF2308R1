{
 "cells": [
  {
   "cell_type": "code",
   "execution_count": null,
   "id": "a42fa0c7",
   "metadata": {},
   "outputs": [],
   "source": [
    "\"\"\"\n",
    "Tạo class có tên SoHoc gồm có các thuộc tính và phương thức sau:\n",
    "+ Thuộc tính: number1, number2\n",
    "+ Phương thức:\n",
    "- Phương thức tạo __init()__\n",
    "- print_info(): dùng để hiển thị number1, number2\n",
    "- addition(): dùng để cộng number1, number2\n",
    "- subtract(): trừ number1, number2\n",
    "- multi(): dùng để nhân number1, number2\n",
    "- division(): dùng để chia number1, number2.\n",
    "\n",
    "Sau khi tạo class, khởi tạo một object SoHoc và in ra kết quả tính toán từ các hàm thực hiện phép tính\n",
    "\"\"\""
   ]
  },
  {
   "cell_type": "code",
   "execution_count": 3,
   "id": "72a64514-180e-4371-a0a6-ab04ac3948f3",
   "metadata": {},
   "outputs": [
    {
     "name": "stdout",
     "output_type": "stream",
     "text": [
      "Number 1: 12, Number 2: 0\n",
      "Can't divide by zero\n",
      "None\n",
      "0\n"
     ]
    }
   ],
   "source": [
    "class SoHoc:\n",
    "    number1 = 0\n",
    "    number2 = 1\n",
    "\n",
    "    def __init__(self, number1, number2):\n",
    "        self.number1 = number1\n",
    "        self.number2 = number2\n",
    "\n",
    "    def print_info(self):\n",
    "        print(f\"Number 1: {self.number1}, Number 2: {self.number2}\")\n",
    "\n",
    "    def __str__(self):\n",
    "        return f\"Number 1: {self.number1}, Number 2: {self.number2}\"\n",
    "\n",
    "    def addition(self):\n",
    "        return self.number1 + self.number2\n",
    "\n",
    "    def subtract(self):\n",
    "        return self.number1 - self.number2\n",
    "\n",
    "    def multi(self):\n",
    "        return self.number1 * self.number2\n",
    "\n",
    "    def division(self):\n",
    "        if self.number2 == 0:\n",
    "            print(\"Can't divide by zero\")\n",
    "            return None\n",
    "        else:\n",
    "            return self.number1 / self.number2\n",
    "\n",
    "# Demo\n",
    "s1 = SoHoc(12, 0)\n",
    "print(s1)\n",
    "print(s1.division())\n",
    "print(s1.multi())\n",
    "\n",
    "\n",
    "\n",
    "        "
   ]
  },
  {
   "cell_type": "code",
   "execution_count": null,
   "id": "9259cf71-7592-4b61-a1a1-4fb54b7fa017",
   "metadata": {},
   "outputs": [],
   "source": []
  }
 ],
 "metadata": {
  "kernelspec": {
   "display_name": "Python 3 (ipykernel)",
   "language": "python",
   "name": "python3"
  },
  "language_info": {
   "codemirror_mode": {
    "name": "ipython",
    "version": 3
   },
   "file_extension": ".py",
   "mimetype": "text/x-python",
   "name": "python",
   "nbconvert_exporter": "python",
   "pygments_lexer": "ipython3",
   "version": "3.10.7"
  }
 },
 "nbformat": 4,
 "nbformat_minor": 5
}
