{
 "cells": [
  {
   "cell_type": "code",
   "execution_count": 3,
   "id": "1b7705b3",
   "metadata": {},
   "outputs": [
    {
     "name": "stdout",
     "output_type": "stream",
     "text": [
      "Tèo, 23 tuổi, 280 ADV, lương 1100,\n",
      "làm 179, thưởng 110.0\n"
     ]
    },
    {
     "data": {
      "text/plain": [
       "'Tý, 39 tuổi, 123 Trương Định, lương 1234,\\nlàm 201, thưởng 246.8'"
      ]
     },
     "execution_count": 3,
     "metadata": {},
     "output_type": "execute_result"
    }
   ],
   "source": [
    "\"\"\"\n",
    "Viết class NhanVien gồm các thuộc tính:\n",
    "+ Tên\n",
    "+ Tuổi\n",
    "+ Địa chỉ\n",
    "+ Tiền lương\n",
    "+ Tổng số giờ làm\n",
    "\n",
    "Và các phương thức:\n",
    "- Phương thức tạo\n",
    "- tinh_thuong(): Tính toán và trả về số tiền thưởng của nhân viên theo công thức sau:\n",
    "Nếu tổng số giờ làm của nhân viên >=200 thì thưởng = lương * 20%\n",
    "Nếu tổng số giờ làm của nhân viên <200 và >=100 thì thưởng = lương * 10%\n",
    "Nếu tổng số giờ làm của nhân viên <100 thì thưởng = 0\n",
    "- print_info() : In ra tất cả các thông tin cá nhân và tiền thưởng của nhân viên\n",
    "\n",
    "Tiến hành tạo ra hai đối tượng NhanVien và in ra thông tin tương ứng\n",
    "\"\"\"\n",
    "class NhanVien:\n",
    "    def __init__(self, ten, tuoi, dia_chi, luong, so_gio_lam):\n",
    "        self.ho_ten = ten\n",
    "        self.tuoi = tuoi\n",
    "        self.dia_chi = dia_chi\n",
    "        self.tien_luong = luong\n",
    "        self.tong_so_gio_lam = so_gio_lam\n",
    "        \n",
    "    def tinh_thuong(self):\n",
    "        thuong: int = 0\n",
    "        \n",
    "        if self.tong_so_gio_lam >= 200:\n",
    "            thuong = self.tien_luong * 0.2\n",
    "        elif self.tong_so_gio_lam >= 100:\n",
    "            thuong = self.tien_luong * 0.1\n",
    "#         else:\n",
    "#             thuong = 0\n",
    "        \n",
    "        return thuong\n",
    "    \n",
    "    def __str__(self):\n",
    "        return f\"\"\"{self.ho_ten}, {self.tuoi} tuổi, {self.dia_chi}, lương {self.tien_luong},\n",
    "làm {self.tong_so_gio_lam}, thưởng {self.tinh_thuong()}\"\"\"\n",
    "    \n",
    "\n",
    "#Demo\n",
    "nv1 = NhanVien(\"Tèo\", 23, \"280 ADV\", 1100, 179)\n",
    "nv2 = NhanVien(\"Tý\", 39, \"123 Trương Định\", 1234, 201)\n",
    "print(nv1)\n",
    "str(nv2)"
   ]
  },
  {
   "cell_type": "code",
   "execution_count": null,
   "id": "3cf0f41d",
   "metadata": {},
   "outputs": [],
   "source": []
  }
 ],
 "metadata": {
  "kernelspec": {
   "display_name": "Python 3 (ipykernel)",
   "language": "python",
   "name": "python3"
  },
  "language_info": {
   "codemirror_mode": {
    "name": "ipython",
    "version": 3
   },
   "file_extension": ".py",
   "mimetype": "text/x-python",
   "name": "python",
   "nbconvert_exporter": "python",
   "pygments_lexer": "ipython3",
   "version": "3.10.7"
  }
 },
 "nbformat": 4,
 "nbformat_minor": 5
}
