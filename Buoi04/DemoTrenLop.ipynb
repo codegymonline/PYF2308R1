{
 "cells": [
  {
   "cell_type": "code",
   "execution_count": 8,
   "id": "2ba7d060-a22c-4d2c-9a38-d1418d923eff",
   "metadata": {},
   "outputs": [
    {
     "name": "stdout",
     "output_type": "stream",
     "text": [
      "<class 'float'>\n",
      "123.93\n",
      "<class 'float'>\n"
     ]
    }
   ],
   "source": [
    "hoTen = \"Nguyễn Tèo\"\n",
    "_anh = 123\n",
    "_nam_sinh = 1999\n",
    "\n",
    "# comment - chú thích (chương trình sẽ bỏ qua lệnh ghi chú)\n",
    "luong = 2990000.9\n",
    "print(type(luong))\n",
    "\n",
    "diem = float('123.93')\n",
    "print(diem)\n",
    "print(type(diem))"
   ]
  },
  {
   "cell_type": "code",
   "execution_count": 6,
   "id": "6ec92228-4558-4789-8e07-3876339968be",
   "metadata": {},
   "outputs": [
    {
     "name": "stdout",
     "output_type": "stream",
     "text": [
      "<class 'bool'>\n"
     ]
    }
   ],
   "source": [
    "x=True\n",
    "print(type(x))"
   ]
  },
  {
   "cell_type": "code",
   "execution_count": 10,
   "id": "c42dc789-a50a-4db7-be0d-250e941b7d69",
   "metadata": {},
   "outputs": [
    {
     "name": "stdout",
     "output_type": "stream",
     "text": [
      "7 <class 'int'>\n",
      "8.9 <class 'float'>\n",
      "False <class 'bool'>\n",
      "Rớt <class 'str'>\n"
     ]
    }
   ],
   "source": [
    "diem = 7\n",
    "print(diem, type(diem))\n",
    "\n",
    "diem = 8.9\n",
    "print(diem, type(diem))\n",
    "\n",
    "diem = False\n",
    "print(diem, type(diem))\n",
    "\n",
    "diem = \"Rớt\"\n",
    "print(diem, type(diem))\n",
    "\n"
   ]
  },
  {
   "cell_type": "code",
   "execution_count": 12,
   "id": "950ff5fa-75e6-4bfa-b928-d6afdda3e382",
   "metadata": {},
   "outputs": [
    {
     "name": "stdout",
     "output_type": "stream",
     "text": [
      "Năm nay là 2023\n"
     ]
    }
   ],
   "source": [
    "# Demo chuỗi\n",
    "\n",
    "year = 2023\n",
    "print(\"Năm nay là \" + str(year))"
   ]
  },
  {
   "cell_type": "code",
   "execution_count": 18,
   "id": "4867116d-62e7-405c-8f08-9a33326fe019",
   "metadata": {},
   "outputs": [
    {
     "name": "stdout",
     "output_type": "stream",
     "text": [
      "2.3333333333333335\n",
      "2\n",
      "1\n"
     ]
    }
   ],
   "source": [
    "print(7 / 3)\n",
    "print(7 // 3) # Chia lấy phần nguyên\n",
    "print(7 % 3) # Chia lấy dư"
   ]
  },
  {
   "cell_type": "code",
   "execution_count": 25,
   "id": "394f15e4-4a9f-46a7-9a67-225ba0cad726",
   "metadata": {},
   "outputs": [
    {
     "data": {
      "text/plain": [
       "'\\nprint() # In ra màn hình\\ninput() # Lấy giá trị nhập vào, trả về kiểu chuỗi\\n\\nBT1:\\nNhập vào họ tên, in ra \"xin chào {tên}\"\\nNhập năm sinh, in ra \"Bạn ? tuổi\"\\n'"
      ]
     },
     "execution_count": 25,
     "metadata": {},
     "output_type": "execute_result"
    }
   ],
   "source": [
    "'''\n",
    "print() # In ra màn hình\n",
    "input() # Lấy giá trị nhập vào, trả về kiểu chuỗi\n",
    "\n",
    "BT1:\n",
    "Nhập vào họ tên, in ra \"xin chào {tên}\"\n",
    "Nhập năm sinh, in ra \"Bạn ? tuổi\"\n",
    "'''\n"
   ]
  },
  {
   "cell_type": "code",
   "execution_count": 26,
   "id": "959b30d6-43da-4f03-bfa9-5c56b8343949",
   "metadata": {},
   "outputs": [
    {
     "name": "stdin",
     "output_type": "stream",
     "text": [
      "Nhập vào họ tên:  Tần\n"
     ]
    },
    {
     "name": "stdout",
     "output_type": "stream",
     "text": [
      "Xin chào: Tần\n"
     ]
    },
    {
     "name": "stdin",
     "output_type": "stream",
     "text": [
      "Nhập vào năm sinh:  1999\n"
     ]
    },
    {
     "name": "stdout",
     "output_type": "stream",
     "text": [
      "Bạn 24 tuổi\n"
     ]
    }
   ],
   "source": [
    "ho_ten = input(\"Nhập vào họ tên: \")\n",
    "print(\"Xin chào:\", ho_ten)\n",
    "namsinh = int(input(\"Nhập vào năm sinh: \"))\n",
    "tuoi = 2023 - namsinh\n",
    "print(\"Bạn\", str(tuoi), \"tuổi\")"
   ]
  },
  {
   "cell_type": "code",
   "execution_count": null,
   "id": "555cd566-813a-4f3e-b577-9f9530df77e8",
   "metadata": {},
   "outputs": [],
   "source": []
  }
 ],
 "metadata": {
  "kernelspec": {
   "display_name": "Python 3 (ipykernel)",
   "language": "python",
   "name": "python3"
  },
  "language_info": {
   "codemirror_mode": {
    "name": "ipython",
    "version": 3
   },
   "file_extension": ".py",
   "mimetype": "text/x-python",
   "name": "python",
   "nbconvert_exporter": "python",
   "pygments_lexer": "ipython3",
   "version": "3.10.7"
  }
 },
 "nbformat": 4,
 "nbformat_minor": 5
}
